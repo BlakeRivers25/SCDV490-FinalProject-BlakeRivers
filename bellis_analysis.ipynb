{
 "cells": [
  {
   "cell_type": "code",
   "execution_count": null,
   "id": "1d10711e",
   "metadata": {},
   "outputs": [],
   "source": [
    "import matplotlib.pylab as plt\n",
    "import numpy as np\n",
    "\n",
    "import pandas as pd\n",
    "import seaborn as sns"
   ]
  },
  {
   "cell_type": "code",
   "execution_count": null,
   "id": "32c0c9d8",
   "metadata": {},
   "outputs": [],
   "source": [
    "!wget https://raw.githubusercontent.com/BlakeRivers25/SCDV490-FinalProject-BlakeRivers/main/Data%20Sets/2000%20Income%20Cleaned.csv -O income_cleaned_2000.csv\n",
    "\n",
    "    \n",
    "!ls -ltr"
   ]
  },
  {
   "cell_type": "code",
   "execution_count": null,
   "id": "b6c79882",
   "metadata": {},
   "outputs": [],
   "source": [
    "infilename = 'income_cleaned_2000.csv'\n",
    "\n",
    "infile = open(infilename)\n",
    "\n",
    "line = infile.readline()\n",
    "print(line)\n",
    "\n",
    "vals = line.split('\\\"')\n",
    "print(vals)\n",
    "\n",
    "state = []\n",
    "pop = []\n",
    "incomes = []\n",
    "nbrackets = 12\n",
    "#for i in range(nbrackets):\n",
    "#    incomes.append([])\n",
    "    \n",
    "for line in infile:\n",
    "    #print(line)\n",
    "    vals = line.split(',')\n",
    "    nvals = len(vals)\n",
    "    print(nvals)\n",
    "    if nvals==13:\n",
    "        if vals[0].find('Total')<0 and vals[0].find('Percent')<0:\n",
    "            state.append(vals[0])\n",
    "            #print(vals)\n",
    "    else:\n",
    "        newvals = line.split('\\\"')\n",
    "        print(newvals)\n",
    "        if newvals[0].find('Number')<0:\n",
    "            continue\n",
    "            \n",
    "        # Pack the values\n",
    "        icount = 0\n",
    "        inc = []\n",
    "        for i in range(1,len(newvals)):\n",
    "            x = newvals[i]\n",
    "            if len(x)>1:\n",
    "                x = int(x.replace(',',''))\n",
    "                inc.append(x)\n",
    "        incomes.append(inc)\n",
    "            \n",
    "#for line in infile:\n",
    "#    print(line)\n",
    "\n",
    "incomes = np.array(incomes).T\n"
   ]
  },
  {
   "cell_type": "code",
   "execution_count": null,
   "id": "8bab7581",
   "metadata": {},
   "outputs": [],
   "source": [
    "print(len(incomes))\n",
    "print(len(state))\n",
    "print(len(pop))\n",
    "print(len(incomes[0]))\n",
    "\n",
    "for i in incomes.T:\n",
    "    print(len(i))"
   ]
  },
  {
   "cell_type": "code",
   "execution_count": null,
   "id": "0582b96e",
   "metadata": {},
   "outputs": [],
   "source": [
    "#state"
   ]
  },
  {
   "cell_type": "code",
   "execution_count": null,
   "id": "55611e5f",
   "metadata": {},
   "outputs": [],
   "source": [
    "d = {}\n",
    "d['State'] = state\n",
    "d['Population'] = incomes[0]\n",
    "d['0-10000'] = incomes[1]\n",
    "d['10000-15000'] = incomes[2]\n",
    "d['15000-25000'] = incomes[3]\n",
    "d['25000-35000'] = incomes[4]\n",
    "d['35000-50000'] = incomes[5]\n",
    "d['50000-75000'] = incomes[6]\n",
    "d['75000-100000'] = incomes[7]\n",
    "d['100000-150000'] = incomes[8]\n",
    "d['150000-200000'] = incomes[9]\n",
    "d['200000-100000000'] = incomes[10]\n",
    "d['Median'] = incomes[11]\n"
   ]
  },
  {
   "cell_type": "code",
   "execution_count": null,
   "id": "e13ba5d5",
   "metadata": {},
   "outputs": [],
   "source": [
    "df = pd.DataFrame.from_dict(d)"
   ]
  },
  {
   "cell_type": "code",
   "execution_count": null,
   "id": "6540da10",
   "metadata": {},
   "outputs": [],
   "source": [
    "df"
   ]
  },
  {
   "cell_type": "code",
   "execution_count": null,
   "id": "95c1f0f8",
   "metadata": {},
   "outputs": [],
   "source": [
    "plt.figure(figsize=(16,8))\n",
    "df.plot(x='State',y='Population',figsize=(16,8))\n",
    "#plt.xlabel(rotate=90)"
   ]
  },
  {
   "cell_type": "code",
   "execution_count": null,
   "id": "e96f283f",
   "metadata": {},
   "outputs": [],
   "source": []
  }
 ],
 "metadata": {
  "kernelspec": {
   "display_name": "Python 3 (ipykernel)",
   "language": "python",
   "name": "python3"
  },
  "language_info": {
   "codemirror_mode": {
    "name": "ipython",
    "version": 3
   },
   "file_extension": ".py",
   "mimetype": "text/x-python",
   "name": "python",
   "nbconvert_exporter": "python",
   "pygments_lexer": "ipython3",
   "version": "3.9.7"
  }
 },
 "nbformat": 4,
 "nbformat_minor": 5
}

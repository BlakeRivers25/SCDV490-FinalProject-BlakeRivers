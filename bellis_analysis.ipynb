{
 "cells": [
  {
   "cell_type": "code",
   "execution_count": null,
   "id": "1d10711e",
   "metadata": {},
   "outputs": [],
   "source": [
    "import matplotlib.pylab as plt\n",
    "import numpy as np\n",
    "import pandas as pd\n",
    "import seaborn as sns\n",
    "import utilities\n",
    "%load_ext autoreload\n",
    "%autoreload 2"
   ]
  },
  {
   "cell_type": "markdown",
   "id": "559a52e5",
   "metadata": {},
   "source": [
    "# Test the utilities file"
   ]
  },
  {
   "cell_type": "code",
   "execution_count": null,
   "id": "928b7c07",
   "metadata": {},
   "outputs": [],
   "source": [
    "infilename = \"Data Sets/2000 Income Cleaned.csv\"\n",
    "df = utilities.parse_csv_file_to_dataframe(infilename, filetype='income', fileyear='2000')\n",
    "\n",
    "print('2000 Income Dataframe')\n",
    "df"
   ]
  },
  {
   "cell_type": "code",
   "execution_count": null,
   "id": "62568f7f",
   "metadata": {},
   "outputs": [],
   "source": [
    "plt.figure(figsize=(16,8))\n",
    "df.plot(x='State',y='# of households',figsize=(16,8))\n",
    "#plt.xlabel(rotate=90)"
   ]
  },
  {
   "cell_type": "code",
   "execution_count": null,
   "id": "ed5b5136",
   "metadata": {},
   "outputs": [],
   "source": [
    "plt.figure(figsize=(16,8))\n",
    "df.plot(x='State',y='15000-25000',figsize=(16,8))\n"
   ]
  },
  {
   "cell_type": "code",
   "execution_count": null,
   "id": "3f748101",
   "metadata": {},
   "outputs": [],
   "source": [
    "plt.figure(figsize=(16,16))\n",
    "\n",
    "bracket_names = (df.columns).tolist()[2:-1]\n",
    "\n",
    "print(bracket_names)\n",
    "\n",
    "allstates = df['State'].unique()\n",
    "\n",
    "\n",
    "for i,state in enumerate(allstates):\n",
    "    mask = df['State'] == state\n",
    "\n",
    "    values = df[mask][bracket_names].values[0]\n",
    "    #print(values)\n",
    "\n",
    "    plt.subplot(7,8,i+1)\n",
    "    plt.plot(bracket_names,values,'o-',linewidth=5,label=state)\n",
    "    plt.ylabel('# of households')\n"
   ]
  },
  {
   "cell_type": "code",
   "execution_count": null,
   "id": "ab41f816",
   "metadata": {},
   "outputs": [],
   "source": [
    "infilename = \"Data Sets/2010 Income Cleaned.csv\"\n",
    "df = utilities.parse_csv_file_to_dataframe(infilename, filetype='income', fileyear='2010')\n",
    "\n",
    "print('2010 Income Dataframe')\n",
    "df"
   ]
  },
  {
   "cell_type": "code",
   "execution_count": null,
   "id": "ffd581b4",
   "metadata": {},
   "outputs": [],
   "source": [
    "infilename = \"Data Sets/2020 Income Cleaned.csv\"\n",
    "df = utilities.parse_csv_file_to_dataframe(infilename, filetype='income', fileyear='2020')\n",
    "\n",
    "print('2020 Income Dataframe')\n",
    "df"
   ]
  },
  {
   "cell_type": "code",
   "execution_count": null,
   "id": "03bd7fdc",
   "metadata": {},
   "outputs": [],
   "source": [
    "infilename = \"Data Sets/2010 Population and Demographics Cleaned.csv\"\n",
    "df = utilities.parse_csv_file_to_dataframe(infilename, filetype='demographics', fileyear='2010')\n",
    "\n",
    "print('2010 Income Dataframe')\n",
    "df"
   ]
  },
  {
   "cell_type": "code",
   "execution_count": null,
   "id": "858e1565",
   "metadata": {},
   "outputs": [],
   "source": [
    "infilename = \"Data Sets/2020 Population and Demographics Cleaned.csv\"\n",
    "df = utilities.parse_csv_file_to_dataframe(infilename, filetype='demographics', fileyear='2020')\n",
    "\n",
    "print('2020 Income Dataframe')\n",
    "df"
   ]
  },
  {
   "cell_type": "code",
   "execution_count": null,
   "id": "f6cb032c",
   "metadata": {},
   "outputs": [],
   "source": [
    "infilename = \"Data Sets/2000 Population Cleaned.csv\"\n",
    "df = utilities.parse_csv_file_to_dataframe(infilename, filetype='demographics', fileyear='2000')\n",
    "\n",
    "print('2000 Income Dataframe')\n",
    "df"
   ]
  },
  {
   "cell_type": "code",
   "execution_count": null,
   "id": "8d4b368d",
   "metadata": {},
   "outputs": [],
   "source": []
  }
 ],
 "metadata": {
  "kernelspec": {
   "display_name": "Python 3 (ipykernel)",
   "language": "python",
   "name": "python3"
  },
  "language_info": {
   "codemirror_mode": {
    "name": "ipython",
    "version": 3
   },
   "file_extension": ".py",
   "mimetype": "text/x-python",
   "name": "python",
   "nbconvert_exporter": "python",
   "pygments_lexer": "ipython3",
   "version": "3.9.7"
  }
 },
 "nbformat": 4,
 "nbformat_minor": 5
}

{
 "cells": [
  {
   "cell_type": "code",
   "execution_count": null,
   "id": "1d10711e",
   "metadata": {},
   "outputs": [],
   "source": [
    "import matplotlib.pylab as plt\n",
    "import numpy as np\n",
    "import pandas as pd\n",
    "import seaborn as sns\n",
    "import utilities\n",
    "%load_ext autoreload\n",
    "%autoreload 2"
   ]
  },
  {
   "cell_type": "markdown",
   "id": "559a52e5",
   "metadata": {},
   "source": [
    "# Test the utilities file"
   ]
  },
  {
   "cell_type": "code",
   "execution_count": null,
   "id": "928b7c07",
   "metadata": {},
   "outputs": [],
   "source": [
    "infilename = \"Data Sets/2000 Income Cleaned.csv\"\n",
    "df = utilities.parse_csv_file_to_dataframe(infilename, filetype='income', fileyear='2000')\n",
    "\n",
    "print('2000 Income Dataframe')\n",
    "df"
   ]
  },
  {
   "cell_type": "code",
   "execution_count": null,
   "id": "62568f7f",
   "metadata": {},
   "outputs": [],
   "source": [
    "plt.figure(figsize=(16,8))\n",
    "df.plot(x='State',y='# of households',figsize=(16,8))\n",
    "#plt.xlabel(rotate=90)"
   ]
  },
  {
   "cell_type": "code",
   "execution_count": null,
   "id": "ed5b5136",
   "metadata": {},
   "outputs": [],
   "source": [
    "plt.figure(figsize=(16,8))\n",
    "df.plot(x='State',y='15000-25000',figsize=(16,8))\n"
   ]
  },
  {
   "cell_type": "code",
   "execution_count": null,
   "id": "3f748101",
   "metadata": {},
   "outputs": [],
   "source": [
    "plt.figure(figsize=(16,16))\n",
    "\n",
    "bracket_names = (df.columns).tolist()[2:-1]\n",
    "\n",
    "print(bracket_names)\n",
    "\n",
    "allstates = df['State'].unique()\n",
    "\n",
    "\n",
    "for i,state in enumerate(allstates):\n",
    "    mask = df['State'] == state\n",
    "\n",
    "    values = df[mask][bracket_names].values[0]\n",
    "    #print(values)\n",
    "\n",
    "    plt.subplot(7,8,i+1)\n",
    "    plt.plot(bracket_names,values,'o-',linewidth=5,label=state)\n",
    "    plt.ylabel('# of households')\n"
   ]
  },
  {
   "cell_type": "code",
   "execution_count": null,
   "id": "ab41f816",
   "metadata": {},
   "outputs": [],
   "source": [
    "infilename = \"Data Sets/2010 Income Cleaned.csv\"\n",
    "df10inc = utilities.parse_csv_file_to_dataframe(infilename, filetype='income', fileyear='2010')\n",
    "\n",
    "print('2010 Income Dataframe')\n",
    "df10inc"
   ]
  },
  {
   "cell_type": "code",
   "execution_count": null,
   "id": "ffd581b4",
   "metadata": {},
   "outputs": [],
   "source": [
    "infilename = \"Data Sets/2020 Income Cleaned.csv\"\n",
    "df = utilities.parse_csv_file_to_dataframe(infilename, filetype='income', fileyear='2020')\n",
    "\n",
    "print('2020 Income Dataframe')\n",
    "df"
   ]
  },
  {
   "cell_type": "code",
   "execution_count": null,
   "id": "03bd7fdc",
   "metadata": {},
   "outputs": [],
   "source": [
    "infilename = \"Data Sets/2010 Population and Demographics Cleaned.csv\"\n",
    "df10 = utilities.parse_csv_file_to_dataframe(infilename, filetype='demographics', fileyear='2010')\n",
    "\n",
    "print('2010 pop and demo')\n",
    "df10"
   ]
  },
  {
   "cell_type": "code",
   "execution_count": null,
   "id": "858e1565",
   "metadata": {},
   "outputs": [],
   "source": [
    "infilename = \"Data Sets/2020 Population and Demographics Cleaned.csv\"\n",
    "df20 = utilities.parse_csv_file_to_dataframe(infilename, filetype='demographics', fileyear='2020')\n",
    "\n",
    "print('2020 pop and demo')\n",
    "df20"
   ]
  },
  {
   "cell_type": "code",
   "execution_count": null,
   "id": "f6cb032c",
   "metadata": {},
   "outputs": [],
   "source": [
    "infilename = \"Data Sets/2000 Population Cleaned.csv\"\n",
    "df = utilities.parse_csv_file_to_dataframe(infilename, filetype='demographics', fileyear='2000')\n",
    "\n",
    "print('2000 population demographics')\n",
    "df"
   ]
  },
  {
   "cell_type": "code",
   "execution_count": null,
   "id": "8d4b368d",
   "metadata": {},
   "outputs": [],
   "source": [
    "plt.figure(figsize=(12,6))\n",
    "\n",
    "bracket_names = (df.columns).tolist()[2:-1]\n",
    "\n",
    "print(bracket_names)\n",
    "\n",
    "# Cut out what we don't need\n",
    "bracket_names = bracket_names[2:-2]\n",
    "\n",
    "print(bracket_names)\n",
    "\n",
    "\n",
    "allstates = df['State'].unique()\n",
    "\n",
    "state = 'Vermont'\n",
    "\n",
    "mask = df['State'] == state\n",
    "\n",
    "values = df[mask][bracket_names].values[0]\n",
    "#print(values)\n",
    "\n",
    "plt.plot(bracket_names,values,'o-',linewidth=5,label=state)\n",
    "plt.ylabel('# of households')\n",
    "\n",
    "plt.xticks(rotation=-90, fontsize=18);\n"
   ]
  },
  {
   "cell_type": "code",
   "execution_count": null,
   "id": "913f041b",
   "metadata": {},
   "outputs": [],
   "source": [
    "dfnew = df10[['State']].copy()\n"
   ]
  },
  {
   "cell_type": "code",
   "execution_count": null,
   "id": "acd339c6",
   "metadata": {},
   "outputs": [],
   "source": [
    "a = df10['Population']\n",
    "b = df20['Population']\n",
    "\n",
    "c = b - a\n",
    "\n",
    "dfnew['Population change'] = c\n",
    "dfnew['Population change frac'] = c/a\n",
    "\n",
    "dfnew[0:10]\n"
   ]
  },
  {
   "cell_type": "code",
   "execution_count": null,
   "id": "ffb5aaf3",
   "metadata": {},
   "outputs": [],
   "source": [
    "plt.figure(figsize=(16,8))\n",
    "\n",
    "dfnew.plot.bar(x='State',y='Population change frac',ax=plt.gca())\n",
    "\n",
    "plt.grid()"
   ]
  },
  {
   "cell_type": "markdown",
   "id": "4c48528b",
   "metadata": {},
   "source": [
    "Potential features for clustering\n",
    "\n",
    "* Change in population\n",
    "* Change in % men (or women)\n",
    "* Median income change\n",
    "* Medican income frac change\n",
    "* Mean income change\n",
    "* Mean income frac change\n",
    "* Maybe racial ethnic\n",
    "    * Frac change white\n",
    "    * Frac change Black"
   ]
  },
  {
   "cell_type": "code",
   "execution_count": null,
   "id": "57c46f11",
   "metadata": {},
   "outputs": [],
   "source": [
    "df10.columns"
   ]
  },
  {
   "cell_type": "code",
   "execution_count": null,
   "id": "fc4b095b",
   "metadata": {},
   "outputs": [],
   "source": [
    "df10inc.columns"
   ]
  },
  {
   "cell_type": "code",
   "execution_count": null,
   "id": "87f9b472",
   "metadata": {},
   "outputs": [],
   "source": [
    "#mask = df10['State'] == 'New York'\n",
    "mask = df10['State'] == 'Texas'\n",
    "\n",
    "\n",
    "print(df10['Black or African American'][mask])\n",
    "df10['Some Other Race'][mask]"
   ]
  },
  {
   "cell_type": "markdown",
   "id": "586e8856",
   "metadata": {},
   "source": [
    "# Drop a row based on the name"
   ]
  },
  {
   "cell_type": "code",
   "execution_count": null,
   "id": "0266a232",
   "metadata": {},
   "outputs": [],
   "source": [
    "# Drop a couple of states\n",
    "mask = (df10['State'] == 'New York') | (df10['State'] == 'Colorado')\n",
    "\n",
    "# Reassign the dataframe to give it the same name\n",
    "df10 = df10[~mask]\n",
    "\n",
    "df10"
   ]
  },
  {
   "cell_type": "markdown",
   "id": "3f8a23fe",
   "metadata": {},
   "source": [
    "# Convert states"
   ]
  },
  {
   "cell_type": "code",
   "execution_count": null,
   "id": "38117f5a",
   "metadata": {},
   "outputs": [],
   "source": []
  }
 ],
 "metadata": {
  "kernelspec": {
   "display_name": "Python 3 (ipykernel)",
   "language": "python",
   "name": "python3"
  },
  "language_info": {
   "codemirror_mode": {
    "name": "ipython",
    "version": 3
   },
   "file_extension": ".py",
   "mimetype": "text/x-python",
   "name": "python",
   "nbconvert_exporter": "python",
   "pygments_lexer": "ipython3",
   "version": "3.9.7"
  }
 },
 "nbformat": 4,
 "nbformat_minor": 5
}

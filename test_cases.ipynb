{
 "cells": [
  {
   "cell_type": "markdown",
   "id": "0571e8b8-a036-4510-bc34-3c94868ec37d",
   "metadata": {},
   "source": [
    "## This Notebook is all test code to make sure stuff was working"
   ]
  },
  {
   "cell_type": "markdown",
   "id": "e8d90eb1-1946-4d88-83e9-64aa7a6e39e4",
   "metadata": {
    "tags": []
   },
   "source": [
    "Midterm Project Code"
   ]
  },
  {
   "cell_type": "code",
   "execution_count": null,
   "id": "f7bc17ad-a0e1-4312-bf32-2dd34acfd78c",
   "metadata": {},
   "outputs": [],
   "source": [
    "from utilities import getDataFrame\n",
    "\n",
    "%load_ext autoreload\n",
    "%autoreload 2"
   ]
  },
  {
   "cell_type": "code",
   "execution_count": null,
   "id": "ad2a0dab-7819-4e84-a72d-837e7c472319",
   "metadata": {},
   "outputs": [],
   "source": [
    "url = \"https://raw.githubusercontent.com/BlakeRivers25/SCDV490-FinalProject-BlakeRivers/main/Data%20Sets/county_census_and_election_result.csv\"\n",
    "df = getDataFrame(url)"
   ]
  },
  {
   "cell_type": "code",
   "execution_count": null,
   "id": "7dab75c3-d41c-42e1-9d33-069f72a92490",
   "metadata": {},
   "outputs": [],
   "source": [
    "print (\"County and Census Data:\")\n",
    "df"
   ]
  },
  {
   "cell_type": "markdown",
   "id": "e5511b4d-eaed-4f24-b7fb-2c29897b105d",
   "metadata": {},
   "source": [
    "Cleaning Up The Datsets"
   ]
  },
  {
   "cell_type": "code",
   "execution_count": null,
   "id": "d2ac4902-2ec5-4ff8-9c25-c37657a96704",
   "metadata": {},
   "outputs": [],
   "source": [
    "import matplotlib.pylab as plt\n",
    "import plotly.express as px\n",
    "import numpy as np\n",
    "import pandas as pd\n",
    "import seaborn as sns\n",
    "import utilities\n",
    "%load_ext autoreload\n",
    "%autoreload 2"
   ]
  },
  {
   "cell_type": "markdown",
   "id": "6d1c0147-0ef4-4cea-a60f-0881eb6c975a",
   "metadata": {},
   "source": [
    "Income"
   ]
  },
  {
   "cell_type": "code",
   "execution_count": null,
   "id": "1af13b5e-c97f-44b9-9fad-8143865ec6c4",
   "metadata": {},
   "outputs": [],
   "source": [
    "infilename = \"Data Sets/2000 Income Cleaned.csv\"\n",
    "df2000Income = utilities.parse_csv_file_to_dataframe(infilename, filetype='income', fileyear='2000')\n",
    "\n",
    "print('2000 Income Dataframe')\n",
    "df2000Income"
   ]
  },
  {
   "cell_type": "code",
   "execution_count": null,
   "id": "e2079957-7dba-415c-8da5-6d6fee13fc1c",
   "metadata": {},
   "outputs": [],
   "source": [
    "infilename = \"Data Sets/2010 Income Cleaned.csv\"\n",
    "df2010Income = utilities.parse_csv_file_to_dataframe(infilename, filetype='income', fileyear='2010')\n",
    "\n",
    "print('2010 Income Dataframe')\n",
    "df2010Income"
   ]
  },
  {
   "cell_type": "code",
   "execution_count": null,
   "id": "6bdbce60-513e-4c6e-a9ba-3d430de48dc5",
   "metadata": {},
   "outputs": [],
   "source": [
    "infilename = \"Data Sets/2020 Income Cleaned.csv\"\n",
    "df2020Income = utilities.parse_csv_file_to_dataframe(infilename, filetype='income', fileyear='2020')\n",
    "\n",
    "print('2020 Income Dataframe')\n",
    "df2020Income"
   ]
  },
  {
   "cell_type": "markdown",
   "id": "1fe31cce-ba11-4189-a36c-0cebb783710f",
   "metadata": {},
   "source": [
    "Population and Demographics"
   ]
  },
  {
   "cell_type": "code",
   "execution_count": null,
   "id": "2116a324-8bdb-45a6-96d5-dd3d1fcaef53",
   "metadata": {},
   "outputs": [],
   "source": [
    "infilename = \"Data Sets/2000 Population Cleaned.csv\"\n",
    "\n",
    "df2000Demographics = utilities.parse_csv_file_to_dataframe(infilename, filetype='demographics', fileyear='2000')\n",
    "\n",
    "print('2000 Demographics Dataframe')\n",
    "df2000Demographics"
   ]
  },
  {
   "cell_type": "code",
   "execution_count": null,
   "id": "f7cdcad4-3b4e-49e2-b865-63fd39aba28e",
   "metadata": {},
   "outputs": [],
   "source": [
    "infilename = \"Data Sets/2010 Population and Demographics Cleaned.csv\"\n",
    "\n",
    "df2010Demographics = utilities.parse_csv_file_to_dataframe(infilename, filetype='demographics', fileyear='2010')\n",
    "\n",
    "print('2010 Demographics Dataframe')\n",
    "df2010Demographics"
   ]
  },
  {
   "cell_type": "code",
   "execution_count": null,
   "id": "eebea5f8-b25a-4077-84ea-092b8aa1f189",
   "metadata": {},
   "outputs": [],
   "source": [
    "infilename = \"Data Sets/2020 Population and Demographics Cleaned.csv\"\n",
    "\n",
    "df2020Demographics = utilities.parse_csv_file_to_dataframe(infilename, filetype='demographics', fileyear='2020')\n",
    "\n",
    "print('2020 Demographics Dataframe')\n",
    "df2020Demographics"
   ]
  },
  {
   "cell_type": "markdown",
   "id": "7a262900-0ab8-4a18-bf97-235d11325aed",
   "metadata": {},
   "source": [
    "Status Report 2 Graphs"
   ]
  },
  {
   "cell_type": "code",
   "execution_count": null,
   "id": "96db2500-c4d6-4002-b31e-b8ea99774795",
   "metadata": {},
   "outputs": [],
   "source": [
    "#Male2020Demo = df2020Demographics.loc[df2020Demographics['State'] == 'New York']\n",
    "Male2020Demo = df2020Demographics['Male']\n",
    "Pop2020Demo = df2020Demographics['Population']\n",
    "\n",
    "AvgMalPop2020 = Male2020Demo/Pop2020Demo\n",
    "#AvgMalPop2020"
   ]
  },
  {
   "cell_type": "code",
   "execution_count": null,
   "id": "740b7ca6-5794-41e0-90c1-38e1db16aa9d",
   "metadata": {},
   "outputs": [],
   "source": [
    "Male2000Demo = df2000Demographics.loc[df2000Demographics['State'] == 'New York']\n",
    "Male2000Demo = Male2000Demo[['Male', 'Female']]\n",
    "Male2000Demo"
   ]
  },
  {
   "cell_type": "code",
   "execution_count": null,
   "id": "d8546dd0-7991-4e97-9ab0-a78308834e17",
   "metadata": {},
   "outputs": [],
   "source": [
    "Male2010Demo = df2010Demographics.loc[df2010Demographics['State'] == 'New York']\n",
    "Male2010Demo = Male2010Demo[['Male', 'Female']]\n",
    "Male2010Demo"
   ]
  },
  {
   "cell_type": "code",
   "execution_count": null,
   "id": "28e7fc90-a5a6-463f-906e-e120fcfc52eb",
   "metadata": {},
   "outputs": [],
   "source": [
    "Male2020Demo = df2020Demographics.loc[df2020Demographics['State'] == 'New York']\n",
    "Male2020Demo = Male2020Demo[['Male', 'Female']]\n",
    "Male2020Demo"
   ]
  },
  {
   "cell_type": "code",
   "execution_count": null,
   "id": "f716b886-a03a-40ac-8e50-ab601e9cf23b",
   "metadata": {},
   "outputs": [],
   "source": [
    "NYGender = {'Year': [2000, 2010, 2020],\n",
    "            'Male': [9134254.0, 9387534.0, 9474184.0],\n",
    "            'Female': [9842203.0, 10004749.0, 10040665.0]}\n",
    "NYGenderDF = pd.DataFrame(NYGender)\n",
    "\n",
    "NYMale = NYGenderDF['Male']\n",
    "NYFemale = NYGenderDF['Female']\n",
    "\n",
    "NYGenderDF"
   ]
  },
  {
   "cell_type": "code",
   "execution_count": null,
   "id": "b5697be9-970b-44da-b0c9-07af3f7d2301",
   "metadata": {},
   "outputs": [],
   "source": [
    "fig = plt.subplots(figsize =(12, 8))\n",
    "r = [0,1,2]\n",
    "\n",
    "# From raw value to percentage\n",
    "totals = [i+j for i,j in zip(NYMale, NYFemale)]\n",
    "blueBars = [i / j * 100 for i,j in zip(NYMale, totals)] #Male\n",
    "pinkBars = [i / j * 100 for i,j in zip(NYFemale, totals)] #Female\n",
    "\n",
    "\n",
    "# plot\n",
    "barWidth = 0.85\n",
    "names = ('2000','2010','2020')\n",
    "# Create blue 'Male' Bars\n",
    "plt.bar(r, blueBars, color='blue', edgecolor='white', width=barWidth)\n",
    "# Create pink 'Female' Bars\n",
    "plt.bar(r, pinkBars, bottom=blueBars, color='pink', edgecolor='white', width=barWidth)\n",
    "\n",
    " \n",
    "# Custom x axis\n",
    "plt.xticks(r, names, fontsize = 12)\n",
    "plt.yticks(fontsize = 12)\n",
    "plt.title('% Gender NY by Year', fontweight ='bold', fontsize = 20)\n",
    "plt.xlabel('Year', fontsize = 15)\n",
    "plt.ylabel('% Male vs Female', fontsize = 15)\n",
    " \n",
    "# Show graphic\n",
    "plt.show()"
   ]
  },
  {
   "cell_type": "code",
   "execution_count": null,
   "id": "b83f0633-4ae8-4f17-94a0-775ed3071d0e",
   "metadata": {},
   "outputs": [],
   "source": [
    "Pop2000 = df2000Demographics[['State', 'Population']]\n",
    "#print(Pop2000)\n",
    "Pop2000State = Pop2000['State']\n",
    "Pop2000Pop = Pop2000['Population']\n",
    "\n",
    "plt = px.histogram(Pop2000, x=\"State\", y=\"Population\", title = \"2000 Population by State\", \n",
    "                   width = 1200, height = 800)\n",
    "plt.update_xaxes(tickangle=45)\n",
    "plt.show()"
   ]
  },
  {
   "cell_type": "code",
   "execution_count": null,
   "id": "92d6612a-a1a3-477a-aeaf-1f6facf8432e",
   "metadata": {},
   "outputs": [],
   "source": [
    "Pop2010 = df2010Demographics[['State', 'Population']]\n",
    "#print(Pop2010)\n",
    "Pop2010State = Pop2010['State']\n",
    "Pop2010Pop = Pop2010['Population']\n",
    "\n",
    "plt = px.histogram(Pop2010, x=\"State\", y=\"Population\", title = \"2010 Population by State\", \n",
    "                   width = 1200, height = 800)\n",
    "plt.update_xaxes(tickangle=45)\n",
    "plt.show()"
   ]
  },
  {
   "cell_type": "code",
   "execution_count": null,
   "id": "0c5ddaf3-2554-4cf7-b877-079c913bb413",
   "metadata": {},
   "outputs": [],
   "source": [
    "Pop2020 = df2020Demographics[['State', 'Population']]\n",
    "#print(Pop2020)\n",
    "Pop2020State = Pop2020['State']\n",
    "Pop2020Pop = Pop2020['Population']\n",
    "\n",
    "plt = px.histogram(Pop2020, x=\"State\", y=\"Population\", title = \"2020 Population by State\", \n",
    "                   width = 1200, height = 800)\n",
    "plt.update_xaxes(tickangle=45)\n",
    "plt.show()"
   ]
  },
  {
   "cell_type": "markdown",
   "id": "051d58e1-ffee-4c2c-bc2e-66a730232fd6",
   "metadata": {
    "tags": []
   },
   "source": [
    "## Next Steps"
   ]
  },
  {
   "cell_type": "code",
   "execution_count": null,
   "id": "d23b433f-eae9-4bca-8627-ea0985fe2657",
   "metadata": {},
   "outputs": [],
   "source": [
    "bracket_names = (df2010Demographics.columns).tolist()[2:-1]\n",
    "\n",
    "print(bracket_names)\n",
    "\n",
    "# Cut out what we don't need\n",
    "bracket_names = bracket_names[2:-8]\n",
    "\n",
    "print(bracket_names)\n",
    "\n",
    "\n",
    "allstates = df2010Demographics['State'].unique()\n",
    "\n",
    "state = 'Vermont'\n",
    "\n",
    "mask = df2010Demographics['State'] == state\n",
    "\n",
    "values = df2010Demographics[mask][bracket_names].values[0]\n",
    "#print(values)\n",
    "\n",
    "fig = plt.subplots(figsize =(12, 8))\n",
    "plt.plot(bracket_names,values,'o-',linewidth=5,label=state)\n",
    "plt.ylabel('# of households')\n",
    "plt.xticks(rotation=-90, fontsize=18);"
   ]
  },
  {
   "cell_type": "code",
   "execution_count": null,
   "id": "87d28962-c882-4bd5-b46b-4378b5859435",
   "metadata": {},
   "outputs": [],
   "source": [
    "dfnew = df2010Demographics[['State']].copy()"
   ]
  },
  {
   "cell_type": "code",
   "execution_count": null,
   "id": "eb6a6f62-bdb2-483f-aa69-e3ea8c8f74a9",
   "metadata": {},
   "outputs": [],
   "source": [
    "a = df2010Demographics['Population']\n",
    "b = df2020Demographics['Population']\n",
    "c = b - a\n",
    "dfnew['Population Change'] = c\n",
    "dfnew['Population Change Fraction'] = c/a\n",
    "dfnew[0:10]"
   ]
  },
  {
   "cell_type": "code",
   "execution_count": null,
   "id": "7a074990-a6bd-4c65-b212-6193821fab03",
   "metadata": {},
   "outputs": [],
   "source": [
    "a = df2010Demographics['Male']\n",
    "b = df2020Demographics['Male']\n",
    "c = b - a\n",
    "dfnew['Male Change'] = c\n",
    "dfnew['Male Change Fraction'] = c/a\n",
    "dfnew[0:10]"
   ]
  },
  {
   "cell_type": "code",
   "execution_count": null,
   "id": "b990e5c8-9192-42ca-90dc-e4438d5a3056",
   "metadata": {},
   "outputs": [],
   "source": [
    "a = df2010Demographics['Female']\n",
    "b = df2020Demographics['Female']\n",
    "c = b - a\n",
    "dfnew['Female Change'] = c\n",
    "dfnew['Female Change Fraction'] = c/a\n",
    "dfnew[0:10]"
   ]
  },
  {
   "cell_type": "code",
   "execution_count": null,
   "id": "a6fa1ef5-a762-474a-a2e0-50dceb3f1be9",
   "metadata": {},
   "outputs": [],
   "source": [
    "a = df2010Income['Median']\n",
    "b = df2020Income['Median']\n",
    "c = b - a\n",
    "dfnew['Median Income Change'] = c\n",
    "dfnew['Median Income Change Fraction'] = c/a\n",
    "dfnew[0:10]"
   ]
  },
  {
   "cell_type": "code",
   "execution_count": null,
   "id": "ada35fd1-e947-41ba-b719-2779de420fc1",
   "metadata": {},
   "outputs": [],
   "source": [
    "a = df2010Income['Mean']\n",
    "b = df2020Income['Mean']\n",
    "c = b - a\n",
    "dfnew['Mean Income Change'] = c\n",
    "dfnew['Mean Income Change Fraction'] = c/a\n",
    "dfnew[0:10]"
   ]
  },
  {
   "cell_type": "code",
   "execution_count": null,
   "id": "93133c85-6661-4c4e-865e-de4e68f772f0",
   "metadata": {},
   "outputs": [],
   "source": [
    "a = df2010Demographics['White']\n",
    "b = df2020Demographics['White']\n",
    "c = b - a\n",
    "dfnew['White Change'] = c\n",
    "dfnew['White Change Fraction'] = c/a\n",
    "dfnew[0:10]"
   ]
  },
  {
   "cell_type": "code",
   "execution_count": null,
   "id": "6f753ad7-4206-4d9f-acac-cb56697c9c7a",
   "metadata": {},
   "outputs": [],
   "source": [
    "a = df2010Demographics['Black or African American']\n",
    "b = df2020Demographics['Black or African American']\n",
    "c = b - a\n",
    "dfnew['Black or African American Change'] = c\n",
    "dfnew['Black or African American Change Fraction'] = c/a\n",
    "dfnew[0:10]"
   ]
  }
 ],
 "metadata": {
  "kernelspec": {
   "display_name": "Python 3 (ipykernel)",
   "language": "python",
   "name": "python3"
  },
  "language_info": {
   "codemirror_mode": {
    "name": "ipython",
    "version": 3
   },
   "file_extension": ".py",
   "mimetype": "text/x-python",
   "name": "python",
   "nbconvert_exporter": "python",
   "pygments_lexer": "ipython3",
   "version": "3.9.13"
  }
 },
 "nbformat": 4,
 "nbformat_minor": 5
}

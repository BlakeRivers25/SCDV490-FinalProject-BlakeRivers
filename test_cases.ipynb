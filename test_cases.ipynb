{
 "cells": [
  {
   "cell_type": "markdown",
   "id": "e8d90eb1-1946-4d88-83e9-64aa7a6e39e4",
   "metadata": {
    "tags": []
   },
   "source": [
    "Midterm Project Code"
   ]
  },
  {
   "cell_type": "code",
   "execution_count": null,
   "id": "f7bc17ad-a0e1-4312-bf32-2dd34acfd78c",
   "metadata": {},
   "outputs": [],
   "source": [
    "from utilities import getDataFrame\n",
    "\n",
    "%load_ext autoreload\n",
    "%autoreload 2"
   ]
  },
  {
   "cell_type": "code",
   "execution_count": null,
   "id": "ad2a0dab-7819-4e84-a72d-837e7c472319",
   "metadata": {},
   "outputs": [],
   "source": [
    "url = \"https://raw.githubusercontent.com/BlakeRivers25/SCDV490-FinalProject-BlakeRivers/main/Data%20Sets/county_census_and_election_result.csv\"\n",
    "df = getDataFrame(url)"
   ]
  },
  {
   "cell_type": "code",
   "execution_count": null,
   "id": "7dab75c3-d41c-42e1-9d33-069f72a92490",
   "metadata": {},
   "outputs": [],
   "source": [
    "print (\"County and Census Data:\")\n",
    "df"
   ]
  },
  {
   "cell_type": "markdown",
   "id": "e5511b4d-eaed-4f24-b7fb-2c29897b105d",
   "metadata": {},
   "source": [
    "Cleaning Up The Datsets"
   ]
  },
  {
   "cell_type": "code",
   "execution_count": null,
   "id": "d2ac4902-2ec5-4ff8-9c25-c37657a96704",
   "metadata": {},
   "outputs": [],
   "source": [
    "import matplotlib.pylab as plt\n",
    "import numpy as np\n",
    "import pandas as pd\n",
    "import seaborn as sns\n",
    "import utilities\n",
    "%load_ext autoreload\n",
    "%autoreload 2"
   ]
  },
  {
   "cell_type": "code",
   "execution_count": null,
   "id": "1af13b5e-c97f-44b9-9fad-8143865ec6c4",
   "metadata": {},
   "outputs": [],
   "source": [
    "infilename = 'income_cleaned_2000.csv'\n",
    "infilename = \"Data Sets/2000 Income Cleaned.csv\"\n",
    "df2000Income = utilities.parse_csv_file_to_dataframe(infilename, filetype='income', fileyear='2000')\n",
    "\n",
    "df2000Income"
   ]
  },
  {
   "cell_type": "code",
   "execution_count": null,
   "id": "2116a324-8bdb-45a6-96d5-dd3d1fcaef53",
   "metadata": {},
   "outputs": [],
   "source": [
    "infilename = \"Data Sets/2010 Population and Demographics Cleaned.csv\"\n",
    "\n",
    "df2010Demographics = utilities.parse_csv_file_to_dataframe(infilename, filetype='demographics', fileyear='2010')\n",
    "\n",
    "df2010Demographics"
   ]
  },
  {
   "cell_type": "code",
   "execution_count": null,
   "id": "f7cdcad4-3b4e-49e2-b865-63fd39aba28e",
   "metadata": {},
   "outputs": [],
   "source": []
  }
 ],
 "metadata": {
  "kernelspec": {
   "display_name": "Python 3 (ipykernel)",
   "language": "python",
   "name": "python3"
  },
  "language_info": {
   "codemirror_mode": {
    "name": "ipython",
    "version": 3
   },
   "file_extension": ".py",
   "mimetype": "text/x-python",
   "name": "python",
   "nbconvert_exporter": "python",
   "pygments_lexer": "ipython3",
   "version": "3.9.13"
  }
 },
 "nbformat": 4,
 "nbformat_minor": 5
}

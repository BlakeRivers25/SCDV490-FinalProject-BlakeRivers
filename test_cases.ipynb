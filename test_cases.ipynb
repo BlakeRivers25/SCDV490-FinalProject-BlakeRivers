{
 "cells": [
  {
   "cell_type": "code",
   "execution_count": null,
   "id": "f7bc17ad-a0e1-4312-bf32-2dd34acfd78c",
   "metadata": {},
   "outputs": [],
   "source": [
    "from utilities import getDataFrame\n",
    "\n",
    "%load_ext autoreload\n",
    "%autoreload 2"
   ]
  },
  {
   "cell_type": "code",
   "execution_count": null,
   "id": "ad2a0dab-7819-4e84-a72d-837e7c472319",
   "metadata": {},
   "outputs": [],
   "source": [
    "url = \"https://raw.githubusercontent.com/BlakeRivers25/SCDV490-FinalProject-BlakeRivers/main/Data%20Sets/county_census_and_election_result.csv\"\n",
    "df = getDataFrame(url)"
   ]
  },
  {
   "cell_type": "code",
   "execution_count": null,
   "id": "7dab75c3-d41c-42e1-9d33-069f72a92490",
   "metadata": {},
   "outputs": [],
   "source": [
    "print (\"County and Census Data:\")\n",
    "df"
   ]
  }
 ],
 "metadata": {
  "kernelspec": {
   "display_name": "Python 3 (ipykernel)",
   "language": "python",
   "name": "python3"
  },
  "language_info": {
   "codemirror_mode": {
    "name": "ipython",
    "version": 3
   },
   "file_extension": ".py",
   "mimetype": "text/x-python",
   "name": "python",
   "nbconvert_exporter": "python",
   "pygments_lexer": "ipython3",
   "version": "3.9.13"
  }
 },
 "nbformat": 4,
 "nbformat_minor": 5
}

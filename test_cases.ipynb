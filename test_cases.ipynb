{
 "cells": [
  {
   "cell_type": "code",
   "execution_count": null,
   "id": "f7bc17ad-a0e1-4312-bf32-2dd34acfd78c",
   "metadata": {},
   "outputs": [],
   "source": [
    "from utilities import getDataFrame\n",
    "\n",
    "%load_ext autoreload\n",
    "%autoreload 2"
   ]
  },
  {
   "cell_type": "code",
   "execution_count": null,
   "id": "ad2a0dab-7819-4e84-a72d-837e7c472319",
   "metadata": {},
   "outputs": [],
   "source": [
    "url = \"https://raw.githubusercontent.com/BlakeRivers25/SCDV490-FinalProject-BlakeRivers/main/Data%20Sets/county_census_and_election_result.csv\"\n",
    "df = getDataFrame(url)"
   ]
  },
  {
   "cell_type": "code",
   "execution_count": null,
   "id": "7dab75c3-d41c-42e1-9d33-069f72a92490",
   "metadata": {},
   "outputs": [],
   "source": [
    "print (\"County and Census Data:\")\n",
    "df"
   ]
  },
  {
   "cell_type": "code",
   "execution_count": null,
   "id": "639a16ca-178b-4fb4-a075-7ca59fb1ac6e",
   "metadata": {},
   "outputs": [],
   "source": [
    "#from this website: https://medium.com/@mcmanus_data_works/using-the-u-s-census-bureau-api-with-python-5c30ad34dbd7\n",
    "\n",
    "import USCensusAPI\n",
    "import requests\n",
    "\n",
    "host = 'https://api.census.gov/data'\n",
    "year = '/2020'\n",
    "dataset_acronym = '/acs/acs1'\n",
    "g = '?get='\n",
    "variables = 'NAME,B01001_001E'\n",
    "location = '&for=us:*'\n",
    "usr_key = '9d5e8adc4e51a37dfd19ebb29a2bb50797a80e92'\n",
    "\n",
    "#Put it all together in one f-string:\n",
    "query_url = f\"{host}{year}{dataset_acronym}{g}{variables}{location}{usr_key}\"\n",
    "# Use requests package to call out to the API\n",
    "response = requests.get(query_url)\n",
    "# Convert the Response to text and print the result\n",
    "print(response.text)"
   ]
  },
  {
   "cell_type": "code",
   "execution_count": null,
   "id": "e1995332-d33a-49d6-a9e6-2a964d444abc",
   "metadata": {},
   "outputs": [],
   "source": [
    "#from this website: https://pygis.io/docs/d_access_census.html\n",
    "\n",
    "# Import modules\n",
    "import matplotlib.pyplot as plt\n",
    "import pandas as pd\n",
    "#import geopandas as gpd\n",
    "from census import Census\n",
    "from us import states\n",
    "import os\n",
    "c = Census(\"9d5e8adc4e51a37dfd19ebb29a2bb50797a80e92\")"
   ]
  },
  {
   "cell_type": "code",
   "execution_count": null,
   "id": "404f5999-b7b7-4c21-876d-c71e2105a161",
   "metadata": {},
   "outputs": [],
   "source": [
    "#from this website: https://atcoordinates.info/2019/09/24/examples-of-using-the-census-bureaus-api-with-python/\n",
    "\n",
    "%matplotlib inline\n",
    "import requests,pandas as pd\n",
    " \n",
    "\n",
    "api_key= '9d5e8adc4e51a37dfd19ebb29a2bb50797a80e92'\n",
    " \n",
    "year='2018'\n",
    "dsource='pep'\n",
    "dname='components'\n",
    "cols='GEONAME,NATURALINC,DOMESTICMIG,INTERNATIONALMIG'\n",
    "state='42'\n",
    "county='017,029,045,091,101'"
   ]
  },
  {
   "cell_type": "code",
   "execution_count": null,
   "id": "8835f141-5afe-4c73-aee7-82e1c4c838a8",
   "metadata": {},
   "outputs": [],
   "source": [
    "base_url = f'https://api.census.gov/data/{year}/{dsource}/{dname}'"
   ]
  },
  {
   "cell_type": "code",
   "execution_count": null,
   "id": "3375e002-159a-470e-9a60-89d349a5683f",
   "metadata": {},
   "outputs": [],
   "source": [
    "data_url = f'{base_url}?get={cols}&for=county:{county}&in=state:{state}&key={api_key}'\n",
    "response=requests.get(data_url)\n",
    "print(response.text)"
   ]
  },
  {
   "cell_type": "code",
   "execution_count": null,
   "id": "ff042c7a-28e2-4497-9d68-060e1725560c",
   "metadata": {},
   "outputs": [],
   "source": [
    "data=response.json()\n",
    "df=pd.DataFrame(data[1:], columns=data[0]).\\\n",
    "    rename(columns={\"NATURALINC\": \"Natural Increase\", \"DOMESTICMIG\": \"Net Domestic Mig\", \"INTERNATIONALMIG\":\"Net Foreign Mig\"})\n",
    "df['fips']=df.state+df.county\n",
    "df.set_index('fips',inplace=True)\n",
    "df.drop(columns=['state','county'],inplace=True)\n",
    "df=df.astype(dtype={'Natural Increase':'int64','Net Domestic Mig':'int64','Net Foreign Mig':'int64'})\n",
    "df"
   ]
  },
  {
   "cell_type": "code",
   "execution_count": null,
   "id": "868b0bf7-6ccc-42c9-999c-51674a789bb4",
   "metadata": {},
   "outputs": [],
   "source": [
    "labels=df['GEONAME'].str.split(' ',expand=True)[0]\n",
    "ax=df.plot.bar(rot=0, title='Components of Population Change 2017-18')\n",
    "ax.set_xticklabels(labels)\n",
    "ax.set_xlabel('')"
   ]
  },
  {
   "cell_type": "code",
   "execution_count": null,
   "id": "be131282-ff76-4fd6-9b54-d702f550184b",
   "metadata": {},
   "outputs": [],
   "source": []
  }
 ],
 "metadata": {
  "kernelspec": {
   "display_name": "Python 3 (ipykernel)",
   "language": "python",
   "name": "python3"
  },
  "language_info": {
   "codemirror_mode": {
    "name": "ipython",
    "version": 3
   },
   "file_extension": ".py",
   "mimetype": "text/x-python",
   "name": "python",
   "nbconvert_exporter": "python",
   "pygments_lexer": "ipython3",
   "version": "3.9.13"
  }
 },
 "nbformat": 4,
 "nbformat_minor": 5
}

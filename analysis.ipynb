{
 "cells": [
  {
   "cell_type": "markdown",
   "id": "7a7d5490-b4d8-417d-900a-e591842be2a9",
   "metadata": {
    "tags": []
   },
   "source": [
    "# Analysis of US Demographics From 2010 to 2020"
   ]
  },
  {
   "cell_type": "code",
   "execution_count": null,
   "id": "8726163a-b1e8-4d59-a5a6-feea64d51afc",
   "metadata": {},
   "outputs": [],
   "source": [
    "#IMPORT THESE IMPORTANT MODULES\n",
    "import matplotlib.pylab as plt\n",
    "import plotly.express as px\n",
    "import numpy as np\n",
    "import pandas as pd\n",
    "import seaborn as sns\n",
    "import utilities\n",
    "%load_ext autoreload\n",
    "%autoreload 2"
   ]
  },
  {
   "cell_type": "markdown",
   "id": "f418a292-0e10-41c6-a420-6b700cd3eef6",
   "metadata": {
    "jp-MarkdownHeadingCollapsed": true,
    "tags": []
   },
   "source": [
    "## Reading in the Datasets and Turning Them into Dataframes"
   ]
  },
  {
   "cell_type": "markdown",
   "id": "0d8a905f-cae6-4d45-a882-dc39ca98ec09",
   "metadata": {
    "jp-MarkdownHeadingCollapsed": true,
    "tags": []
   },
   "source": [
    "#### Income"
   ]
  },
  {
   "cell_type": "code",
   "execution_count": null,
   "id": "88c0de1c-422a-4a81-a695-1463fecd6289",
   "metadata": {},
   "outputs": [],
   "source": [
    "infilename = \"Data Sets/2000 Income Cleaned.csv\"\n",
    "df2000Income = utilities.parse_csv_file_to_dataframe(infilename, filetype='income', fileyear='2000')\n",
    "\n",
    "print('2000 Income Dataframe')\n",
    "#df2000Income"
   ]
  },
  {
   "cell_type": "code",
   "execution_count": null,
   "id": "b0f6d2f5-255a-413d-87e9-9bee032d8903",
   "metadata": {},
   "outputs": [],
   "source": [
    "infilename = \"Data Sets/2010 Income Cleaned.csv\"\n",
    "df2010Income = utilities.parse_csv_file_to_dataframe(infilename, filetype='income', fileyear='2010')\n",
    "\n",
    "print('2010 Income Dataframe')\n",
    "#df2010Income"
   ]
  },
  {
   "cell_type": "code",
   "execution_count": null,
   "id": "29192083-25d9-41c8-91ff-836952d26eb3",
   "metadata": {},
   "outputs": [],
   "source": [
    "infilename = \"Data Sets/2020 Income Cleaned.csv\"\n",
    "df2020Income = utilities.parse_csv_file_to_dataframe(infilename, filetype='income', fileyear='2020')\n",
    "\n",
    "print('2020 Income Dataframe')\n",
    "#df2020Income"
   ]
  },
  {
   "cell_type": "markdown",
   "id": "47edaa76-9069-46b0-bc0d-bb742afc5a20",
   "metadata": {
    "jp-MarkdownHeadingCollapsed": true,
    "tags": []
   },
   "source": [
    "#### Population and Demographics"
   ]
  },
  {
   "cell_type": "code",
   "execution_count": null,
   "id": "f3c7d0f7-cd89-48ba-a80e-440c8bffcc67",
   "metadata": {},
   "outputs": [],
   "source": [
    "infilename = \"Data Sets/2000 Population Cleaned.csv\"\n",
    "df2000Demographics = utilities.parse_csv_file_to_dataframe(infilename, filetype='demographics', fileyear='2000')\n",
    "\n",
    "print('2000 Demographics Dataframe')\n",
    "#df2000Demographics"
   ]
  },
  {
   "cell_type": "code",
   "execution_count": null,
   "id": "c654d12d-1e36-4f2b-a18d-cec4c66fd7f8",
   "metadata": {},
   "outputs": [],
   "source": [
    "infilename = \"Data Sets/2010 Population and Demographics Cleaned.csv\"\n",
    "df2010Demographics = utilities.parse_csv_file_to_dataframe(infilename, filetype='demographics', fileyear='2010')\n",
    "\n",
    "print('2010 Demographics Dataframe')\n",
    "#df2010Demographics"
   ]
  },
  {
   "cell_type": "code",
   "execution_count": null,
   "id": "7d332b30-3acc-420b-82d4-b04d2047ad5a",
   "metadata": {},
   "outputs": [],
   "source": [
    "infilename = \"Data Sets/2020 Population and Demographics Cleaned.csv\"\n",
    "df2020Demographics = utilities.parse_csv_file_to_dataframe(infilename, filetype='demographics', fileyear='2020')\n",
    "\n",
    "print('2020 Demographics Dataframe')\n",
    "#df2020Demographics"
   ]
  },
  {
   "cell_type": "markdown",
   "id": "2829e3db-38af-48ba-8bc4-1dbbafdef318",
   "metadata": {
    "jp-MarkdownHeadingCollapsed": true,
    "tags": []
   },
   "source": [
    "#### Removing Non-States from the Dataset"
   ]
  },
  {
   "cell_type": "code",
   "execution_count": null,
   "id": "8b4e5321-6e3d-4edc-8ff3-8b8b5f290c31",
   "metadata": {},
   "outputs": [],
   "source": [
    "#Drop Non-States into a Mask\n",
    "mask = (df2000Income['State'] == 'DC') | (df2000Income['State'] == 'PR')\n",
    "#Reassign the dataframe to give it the same name\n",
    "df2000Income = df2000Income[~mask]\n",
    "#df2000Income\n",
    "\n",
    "#Drop Non-States into a Mask\n",
    "mask = (df2010Income['State'] == 'DC') | (df2010Income['State'] == 'PR')\n",
    "#Reassign the dataframe to give it the same name\n",
    "df2010Income = df2010Income[~mask]\n",
    "#df2010Income\n",
    "\n",
    "#Drop Non-States into a Mask\n",
    "mask = (df2020Income['State'] == 'DC') | (df2020Income['State'] == 'PR')\n",
    "#Reassign the dataframe to give it the same name\n",
    "df2020Income = df2020Income[~mask]\n",
    "#df2020Income\n",
    "\n",
    "#Drop Non-States into a Mask\n",
    "mask = (df2000Demographics['State'] == 'DC') | (df2000Demographics['State'] == 'PR')\n",
    "#Reassign the dataframe to give it the same name\n",
    "df2000Demographics = df2000Demographics[~mask]\n",
    "#df2000Demographics\n",
    "\n",
    "#Drop Non-States into a Mask\n",
    "mask = (df2010Demographics['State'] == 'DC') | (df2010Demographics['State'] == 'PR')\n",
    "#Reassign the dataframe to give it the same name\n",
    "df2010Demographics = df2010Demographics[~mask]\n",
    "#df2010Demographics\n",
    "\n",
    "#Drop Non-States into a Mask\n",
    "mask = (df2020Demographics['State'] == 'DC') | (df2020Demographics['State'] == 'PR')\n",
    "#Reassign the dataframe to give it the same name\n",
    "df2020Demographics = df2020Demographics[~mask]\n",
    "#df2020Demographics"
   ]
  },
  {
   "cell_type": "markdown",
   "id": "35986a12-0bea-4949-b373-b31310fca30b",
   "metadata": {
    "jp-MarkdownHeadingCollapsed": true,
    "tags": []
   },
   "source": [
    "## Graphs of Features by Year"
   ]
  },
  {
   "cell_type": "markdown",
   "id": "7c1b5517-7159-4b56-a6b6-8f91c912ed18",
   "metadata": {
    "jp-MarkdownHeadingCollapsed": true,
    "tags": []
   },
   "source": [
    "### Making a New Dataframe With the Calculated Differences and Fractions"
   ]
  },
  {
   "cell_type": "code",
   "execution_count": null,
   "id": "5dca297d-009b-4d09-9a23-0d05e2652e0f",
   "metadata": {},
   "outputs": [],
   "source": [
    "#New Dataframe with State Names Copied Over\n",
    "dfnew = df2010Demographics[['State']].copy()"
   ]
  },
  {
   "cell_type": "code",
   "execution_count": null,
   "id": "7d18faff-f44d-4ce7-9390-5fb7a3210398",
   "metadata": {},
   "outputs": [],
   "source": [
    "#Adding all of the calcualted values to the new Dataframe dfnew\n",
    "#Total Population\n",
    "a = df2010Demographics['Population']\n",
    "b = df2020Demographics['Population']\n",
    "c = b - a\n",
    "dfnew['Population Change'] = c\n",
    "dfnew['Population Change Fraction'] = c/a\n",
    "#Number of Males\n",
    "d = df2010Demographics['Male']\n",
    "e = df2020Demographics['Male']\n",
    "f = e - d\n",
    "dfnew['Male Change'] = f\n",
    "dfnew['Male Change Fraction'] = f/d\n",
    "#Number of Females\n",
    "g = df2010Demographics['Female']\n",
    "h = df2020Demographics['Female']\n",
    "i = h - g\n",
    "dfnew['Female Change'] = i\n",
    "dfnew['Female Change Fraction'] = i/g\n",
    "#Median Income per Household\n",
    "j = df2010Income['Median']\n",
    "k = df2020Income['Median']\n",
    "l = k - j\n",
    "dfnew['Median Income Change'] = l\n",
    "dfnew['Median Income Change Fraction'] = l/j\n",
    "#Mean Income per Household\n",
    "m = df2010Income['Mean']\n",
    "n = df2020Income['Mean']\n",
    "o = n - m\n",
    "dfnew['Mean Income Change'] = o\n",
    "dfnew['Mean Income Change Fraction'] = o/m\n",
    "#Number of White as Only Race\n",
    "p = df2010Demographics['White']\n",
    "q = df2020Demographics['White']\n",
    "r = q - p\n",
    "dfnew['White Change'] = r\n",
    "dfnew['White Change Fraction'] = r/p\n",
    "#Number of Black or African American as Only Race\n",
    "t = df2010Demographics['Black or African American']\n",
    "u = df2020Demographics['Black or African American']\n",
    "v = u - t\n",
    "dfnew['Black or African American Change'] = v\n",
    "dfnew['Black or African American Change Fraction'] = v/t\n",
    "#Printing out a snipit of the new dataframe that was created\n",
    "dfnew[0:10]"
   ]
  },
  {
   "cell_type": "markdown",
   "id": "ca1f224b-247d-4a0d-ba02-28ef6f90be69",
   "metadata": {
    "jp-MarkdownHeadingCollapsed": true,
    "tags": []
   },
   "source": [
    "### Creating the Graphs"
   ]
  },
  {
   "cell_type": "markdown",
   "id": "5289177b-738b-4e32-b621-4622f3df6891",
   "metadata": {
    "jp-MarkdownHeadingCollapsed": true,
    "tags": []
   },
   "source": [
    "#### Population"
   ]
  },
  {
   "cell_type": "code",
   "execution_count": null,
   "id": "90cd055d-ca5f-465f-b856-1a0ea1a54dc3",
   "metadata": {},
   "outputs": [],
   "source": [
    "# Sorting the dataframe from lowest to highest so it graphs nicer\n",
    "dfnew = dfnew.sort_values(by=['Population Change'], ascending=True)\n",
    "#dfnew"
   ]
  },
  {
   "cell_type": "code",
   "execution_count": null,
   "id": "877561e1-4392-436f-bf95-2eff61a961d1",
   "metadata": {},
   "outputs": [],
   "source": [
    "plt.figure(figsize=(16,8))\n",
    "dfnew.plot.bar(x='State',y='Population Change',ax=plt.gca())\n",
    "plt.title(\"2010 vs 2020 U.S. Population Change\", fontsize=20, fontweight ='bold')\n",
    "plt.ticklabel_format(style='plain', useOffset=False, axis='y')\n",
    "plt.grid()"
   ]
  },
  {
   "cell_type": "code",
   "execution_count": null,
   "id": "14216b43-db93-4920-b82e-2045b7a8fccf",
   "metadata": {},
   "outputs": [],
   "source": [
    "# Sorting the dataframe from lowest to highest so it graphs nicer\n",
    "dfnew = dfnew.sort_values(by=['Population Change Fraction'], ascending=True)\n",
    "#dfnew"
   ]
  },
  {
   "cell_type": "code",
   "execution_count": null,
   "id": "eea892e8-2881-4207-8cf4-8de662f7616d",
   "metadata": {},
   "outputs": [],
   "source": [
    "plt.figure(figsize=(16,8))\n",
    "dfnew.plot.bar(x='State',y='Population Change Fraction',ax=plt.gca())\n",
    "plt.title(\"2010 vs 2020 U.S. Population Change (Fraction)\", fontsize=20, fontweight ='bold')\n",
    "plt.grid()"
   ]
  },
  {
   "cell_type": "markdown",
   "id": "043e9a0f-3abe-4d35-ab9f-363a725f7e8a",
   "metadata": {
    "jp-MarkdownHeadingCollapsed": true,
    "tags": []
   },
   "source": [
    "#### Sex (Female, Male)"
   ]
  },
  {
   "cell_type": "markdown",
   "id": "441203e3-d7b7-4e42-9e03-61eae94332e4",
   "metadata": {
    "jp-MarkdownHeadingCollapsed": true,
    "tags": []
   },
   "source": [
    "##### Male"
   ]
  },
  {
   "cell_type": "code",
   "execution_count": null,
   "id": "2f33684c-6a8c-404e-b973-65e22a59091a",
   "metadata": {},
   "outputs": [],
   "source": [
    "# Sorting the dataframe from lowest to highest so it graphs nicer\n",
    "dfnew = dfnew.sort_values(by=['Male Change'], ascending=True)\n",
    "#dfnew"
   ]
  },
  {
   "cell_type": "code",
   "execution_count": null,
   "id": "98301b6f-e299-49f2-afd9-f70d03448aba",
   "metadata": {},
   "outputs": [],
   "source": [
    "plt.figure(figsize=(16,8))\n",
    "dfnew.plot.bar(x='State',y='Male Change',ax=plt.gca())\n",
    "plt.title(\"2010 vs 2020 U.S. Male Population Change\", fontsize=20, fontweight ='bold')\n",
    "plt.ticklabel_format(style='plain', useOffset=False, axis='y')\n",
    "plt.grid()"
   ]
  },
  {
   "cell_type": "code",
   "execution_count": null,
   "id": "a135ff3a-8eb4-4404-ad3f-80cfa6ce42bb",
   "metadata": {},
   "outputs": [],
   "source": [
    "# Sorting the dataframe from lowest to highest so it graphs nicer\n",
    "dfnew = dfnew.sort_values(by=['Male Change Fraction'], ascending=True)\n",
    "#dfnew"
   ]
  },
  {
   "cell_type": "code",
   "execution_count": null,
   "id": "1adf6257-f9c6-4b8a-a846-b1ec4d43aa8c",
   "metadata": {},
   "outputs": [],
   "source": [
    "plt.figure(figsize=(16,8))\n",
    "dfnew.plot.bar(x='State',y='Male Change Fraction',ax=plt.gca())\n",
    "plt.title(\"2010 vs 2020 U.S. Male Population Change (Fraction)\", fontsize=20, fontweight ='bold')\n",
    "plt.grid()"
   ]
  },
  {
   "cell_type": "markdown",
   "id": "50a4ae03-3341-43b4-bbda-a68d8dde568b",
   "metadata": {
    "jp-MarkdownHeadingCollapsed": true,
    "tags": []
   },
   "source": [
    "##### Female"
   ]
  },
  {
   "cell_type": "code",
   "execution_count": null,
   "id": "4c6e36ee-0c0c-404a-8a77-287fb1fda9c5",
   "metadata": {},
   "outputs": [],
   "source": [
    "# Sorting the dataframe from lowest to highest so it graphs nicer\n",
    "dfnew = dfnew.sort_values(by=['Female Change'], ascending=True)\n",
    "#dfnew"
   ]
  },
  {
   "cell_type": "code",
   "execution_count": null,
   "id": "7603c634-9541-4b6f-94ad-b792d2884ed6",
   "metadata": {},
   "outputs": [],
   "source": [
    "plt.figure(figsize=(16,8))\n",
    "dfnew.plot.bar(x='State',y='Female Change',ax=plt.gca())\n",
    "plt.title(\"2010 vs 2020 U.S. Female Population Change\", fontsize=20, fontweight ='bold')\n",
    "plt.ticklabel_format(style='plain', useOffset=False, axis='y')\n",
    "plt.grid()"
   ]
  },
  {
   "cell_type": "code",
   "execution_count": null,
   "id": "23fa0cee-a4be-48ad-9513-6b5e0b73fa8b",
   "metadata": {},
   "outputs": [],
   "source": [
    "# Sorting the dataframe from lowest to highest so it graphs nicer\n",
    "dfnew = dfnew.sort_values(by=['Female Change Fraction'], ascending=True)\n",
    "#dfnew"
   ]
  },
  {
   "cell_type": "code",
   "execution_count": null,
   "id": "e9cf2155-9c13-43f6-b732-1cef5a23a28c",
   "metadata": {},
   "outputs": [],
   "source": [
    "plt.figure(figsize=(16,8))\n",
    "dfnew.plot.bar(x='State',y='Female Change Fraction',ax=plt.gca())\n",
    "plt.title(\"2010 vs 2020 U.S. Female Population Change (Fraction)\", fontsize=20, fontweight ='bold')\n",
    "plt.grid()"
   ]
  },
  {
   "cell_type": "markdown",
   "id": "a6fcef9d-4d2c-48af-bbdf-f1edda94af7d",
   "metadata": {
    "jp-MarkdownHeadingCollapsed": true,
    "tags": []
   },
   "source": [
    "##### Male/Female Same Graph"
   ]
  },
  {
   "cell_type": "code",
   "execution_count": null,
   "id": "8937692e-f6e1-4cf1-8a79-e717158752ce",
   "metadata": {},
   "outputs": [],
   "source": [
    "# Sorting the dataframe from lowest to highest so it graphs nicer\n",
    "dfnew = dfnew.sort_values(by=['Male Change','Female Change'], ascending=True)\n",
    "#dfnew"
   ]
  },
  {
   "cell_type": "code",
   "execution_count": null,
   "id": "c196a533-2ac2-4b7e-bc3b-f447fed23a79",
   "metadata": {},
   "outputs": [],
   "source": [
    "plt.figure(figsize=(16,8))\n",
    "dfnew.plot.bar(x='State',y='Male Change',ax=plt.gca(), color='blue', alpha=0.8, align='edge')\n",
    "dfnew.plot.bar(x='State', y='Female Change', ax=plt.gca(), color='pink', alpha=1.0, align='center')\n",
    "plt.title(\"2010 vs 2020 U.S. Male and Female Population Change\", fontsize=20, fontweight ='bold')\n",
    "plt.ticklabel_format(style='plain', useOffset=False, axis='y')\n",
    "plt.grid()"
   ]
  },
  {
   "cell_type": "code",
   "execution_count": null,
   "id": "5f99877f-2dfa-4007-b399-1c7992c1fe61",
   "metadata": {},
   "outputs": [],
   "source": [
    "# Sorting the dataframe from lowest to highest so it graphs nicer\n",
    "dfnew = dfnew.sort_values(by=['Male Change Fraction','Female Change Fraction'], ascending=True)\n",
    "#dfnew"
   ]
  },
  {
   "cell_type": "code",
   "execution_count": null,
   "id": "f4cfe8c8-0b87-4ea2-a2a2-337286ceb673",
   "metadata": {},
   "outputs": [],
   "source": [
    "plt.figure(figsize=(16,8))\n",
    "dfnew.plot.bar(x='State',y='Male Change Fraction',ax=plt.gca(), color='blue', alpha=0.8, align='edge')\n",
    "dfnew.plot.bar(x='State', y='Female Change Fraction', ax=plt.gca(), color='pink', alpha=1.0, align='center')\n",
    "plt.title(\"2010 vs 2020 U.S. Male and Female Population Change (Fraction)\", fontsize=20, fontweight ='bold')\n",
    "plt.ticklabel_format(style='plain', useOffset=False, axis='y')\n",
    "plt.grid()"
   ]
  },
  {
   "cell_type": "markdown",
   "id": "6638b61b-2777-4e91-86cb-cf6088109af6",
   "metadata": {
    "jp-MarkdownHeadingCollapsed": true,
    "tags": []
   },
   "source": [
    "#### Median Income"
   ]
  },
  {
   "cell_type": "code",
   "execution_count": null,
   "id": "cfcb5268-b07c-47af-8fd4-f6a57bc9f030",
   "metadata": {},
   "outputs": [],
   "source": [
    "# Sorting the dataframe from lowest to highest so it graphs nicer\n",
    "dfnew = dfnew.sort_values(by=['Median Income Change'], ascending=True)\n",
    "#dfnew"
   ]
  },
  {
   "cell_type": "code",
   "execution_count": null,
   "id": "586fbec3-e2b2-4e64-9d35-f8cd88cf34f1",
   "metadata": {},
   "outputs": [],
   "source": [
    "plt.figure(figsize=(16,8))\n",
    "dfnew.plot.bar(x='State',y='Median Income Change',ax=plt.gca())\n",
    "plt.title(\"2010 vs 2020 U.S. Median Income Change\", fontsize=20, fontweight ='bold')\n",
    "plt.ticklabel_format(style='plain', useOffset=False, axis='y')\n",
    "plt.grid()"
   ]
  },
  {
   "cell_type": "code",
   "execution_count": null,
   "id": "f5aeb975-0d88-4ae8-9a3f-707579090cb9",
   "metadata": {},
   "outputs": [],
   "source": [
    "# Sorting the dataframe from lowest to highest so it graphs nicer\n",
    "dfnew = dfnew.sort_values(by=['Median Income Change Fraction'], ascending=True)\n",
    "#dfnew"
   ]
  },
  {
   "cell_type": "code",
   "execution_count": null,
   "id": "a4ca6ab9-1644-41fd-8d33-c6ccf079f7e0",
   "metadata": {},
   "outputs": [],
   "source": [
    "plt.figure(figsize=(16,8))\n",
    "dfnew.plot.bar(x='State',y='Median Income Change Fraction',ax=plt.gca())\n",
    "plt.title(\"2010 vs 2020 U.S. Median Income Change (Fraction)\", fontsize=20, fontweight ='bold')\n",
    "plt.axhline(y=0.19, color='r', linewidth=3)\n",
    "plt.grid()"
   ]
  },
  {
   "cell_type": "markdown",
   "id": "fc976e3c-209a-4dda-bbaf-ef4114f330ef",
   "metadata": {
    "jp-MarkdownHeadingCollapsed": true,
    "tags": []
   },
   "source": [
    "#### Mean Income"
   ]
  },
  {
   "cell_type": "code",
   "execution_count": null,
   "id": "72a2bf1b-9e76-4bff-8b0c-2c07b129ae97",
   "metadata": {},
   "outputs": [],
   "source": [
    "# Sorting the dataframe from lowest to highest so it graphs nicer\n",
    "dfnew = dfnew.sort_values(by=['Mean Income Change'], ascending=True)\n",
    "#dfnew"
   ]
  },
  {
   "cell_type": "code",
   "execution_count": null,
   "id": "76fdb8c3-03dc-407d-8edb-a72dd26fe36c",
   "metadata": {},
   "outputs": [],
   "source": [
    "plt.figure(figsize=(16,8))\n",
    "dfnew.plot.bar(x='State',y='Mean Income Change',ax=plt.gca())\n",
    "plt.title(\"2010 vs 2020 U.S. Mean Income Change\", fontsize=20, fontweight ='bold')\n",
    "plt.ticklabel_format(style='plain', useOffset=False, axis='y')\n",
    "plt.grid()"
   ]
  },
  {
   "cell_type": "code",
   "execution_count": null,
   "id": "ef38a239-50f0-4889-92db-54889d8b3a19",
   "metadata": {},
   "outputs": [],
   "source": [
    "# Sorting the dataframe from lowest to highest so it graphs nicer\n",
    "dfnew = dfnew.sort_values(by=['Mean Income Change Fraction'], ascending=True)\n",
    "#dfnew"
   ]
  },
  {
   "cell_type": "code",
   "execution_count": null,
   "id": "e4a7335a-8881-4f42-9191-d9802f7e5ae2",
   "metadata": {},
   "outputs": [],
   "source": [
    "plt.figure(figsize=(16,8))\n",
    "dfnew.plot.bar(x='State',y='Mean Income Change Fraction',ax=plt.gca())\n",
    "plt.title(\"2010 vs 2020 U.S. Mean Income Change (Fraction)\", fontsize=20, fontweight ='bold')\n",
    "plt.axhline(y=0.19, color='r', linewidth=3)\n",
    "plt.grid()"
   ]
  },
  {
   "cell_type": "markdown",
   "id": "eeee2202-4aca-47e3-8685-db87779fac24",
   "metadata": {
    "jp-MarkdownHeadingCollapsed": true,
    "tags": []
   },
   "source": [
    "#### Racial (Black or African American, White)"
   ]
  },
  {
   "cell_type": "markdown",
   "id": "8687ce53-16eb-4665-b423-c56e7b2ebcfc",
   "metadata": {
    "jp-MarkdownHeadingCollapsed": true,
    "tags": []
   },
   "source": [
    "##### Black or African American"
   ]
  },
  {
   "cell_type": "code",
   "execution_count": null,
   "id": "f543875e-c361-4c30-98d4-8095468899c7",
   "metadata": {},
   "outputs": [],
   "source": [
    "# Sorting the dataframe from lowest to highest so it graphs nicer\n",
    "dfnew = dfnew.sort_values(by=['Black or African American Change'], ascending=True)\n",
    "#dfnew"
   ]
  },
  {
   "cell_type": "code",
   "execution_count": null,
   "id": "cc6649b2-3d76-42a3-877f-4546c36b1dec",
   "metadata": {},
   "outputs": [],
   "source": [
    "plt.figure(figsize=(16,8))\n",
    "dfnew.plot.bar(x='State',y='Black or African American Change',ax=plt.gca())\n",
    "plt.title(\"2010 vs 2020 U.S. Black or African American Population Change\", fontsize=20, fontweight ='bold')\n",
    "plt.ticklabel_format(style='plain', useOffset=False, axis='y')\n",
    "plt.grid()"
   ]
  },
  {
   "cell_type": "code",
   "execution_count": null,
   "id": "cb316cc4-dc5e-40a4-a6ba-699e5d537d91",
   "metadata": {},
   "outputs": [],
   "source": [
    "# Sorting the dataframe from lowest to highest so it graphs nicer\n",
    "dfnew = dfnew.sort_values(by=['Black or African American Change Fraction'], ascending=True)\n",
    "#dfnew"
   ]
  },
  {
   "cell_type": "code",
   "execution_count": null,
   "id": "753306b1-f73c-4ccd-9cfd-f0d24670b74f",
   "metadata": {},
   "outputs": [],
   "source": [
    "plt.figure(figsize=(16,8))\n",
    "dfnew.plot.bar(x='State',y='Black or African American Change Fraction',ax=plt.gca())\n",
    "plt.title(\"2010 vs 2020 U.S. Black or African American Population Change (Fraction)\", fontsize=20, fontweight ='bold')\n",
    "plt.grid()"
   ]
  },
  {
   "cell_type": "markdown",
   "id": "fb6fdfd4-fa8c-4665-aab9-c8cf2f4797e9",
   "metadata": {
    "jp-MarkdownHeadingCollapsed": true,
    "tags": []
   },
   "source": [
    "##### White"
   ]
  },
  {
   "cell_type": "code",
   "execution_count": null,
   "id": "800500cb-294a-474f-b2b1-6b8c4de242f1",
   "metadata": {},
   "outputs": [],
   "source": [
    "# Sorting the dataframe from lowest to highest so it graphs nicer\n",
    "dfnew = dfnew.sort_values(by=['White Change'], ascending=True)\n",
    "#dfnew"
   ]
  },
  {
   "cell_type": "code",
   "execution_count": null,
   "id": "f3be4d78-318a-4b8e-b5a2-59f4966d5eb0",
   "metadata": {},
   "outputs": [],
   "source": [
    "plt.figure(figsize=(16,8))\n",
    "dfnew.plot.bar(x='State',y='White Change',ax=plt.gca())\n",
    "plt.title(\"2010 vs 2020 U.S. White Population Change\", fontsize=20, fontweight ='bold')\n",
    "plt.ticklabel_format(style='plain', useOffset=False, axis='y')\n",
    "plt.grid()"
   ]
  },
  {
   "cell_type": "code",
   "execution_count": null,
   "id": "71ff089b-9fab-4510-80eb-6e85dabd807a",
   "metadata": {},
   "outputs": [],
   "source": [
    "# Sorting the dataframe from lowest to highest so it graphs nicer\n",
    "dfnew = dfnew.sort_values(by=['White Change Fraction'], ascending=True)\n",
    "#dfnew"
   ]
  },
  {
   "cell_type": "code",
   "execution_count": null,
   "id": "624b13ff-f1b4-41cc-978a-dbf41149e93c",
   "metadata": {},
   "outputs": [],
   "source": [
    "plt.figure(figsize=(16,8))\n",
    "dfnew.plot.bar(x='State',y='White Change Fraction',ax=plt.gca())\n",
    "plt.title(\"2010 vs 2020 U.S. White Population Change (Fraction)\", fontsize=20, fontweight ='bold')\n",
    "plt.grid()"
   ]
  },
  {
   "cell_type": "markdown",
   "id": "c4b5b098-020e-48f4-bcd1-f9204cc32bca",
   "metadata": {
    "jp-MarkdownHeadingCollapsed": true,
    "tags": []
   },
   "source": [
    "## State Clustering"
   ]
  },
  {
   "cell_type": "code",
   "execution_count": null,
   "id": "b7e7105d-ee2a-4c62-a067-0724e1c2fcd1",
   "metadata": {},
   "outputs": [],
   "source": [
    "# We can make use of the `hue` argument to use color to distinguish the species\n",
    "\n",
    "g = sns.PairGrid(dfnew)\n",
    "g.map_diag(sns.histplot)\n",
    "g.map_offdiag(sns.scatterplot)\n",
    "g.add_legend()"
   ]
  },
  {
   "cell_type": "code",
   "execution_count": null,
   "id": "59b8ae2d-2786-416f-9819-091d954152de",
   "metadata": {},
   "outputs": [],
   "source": [
    "from sklearn.cluster import KMeans\n",
    "from sklearn.metrics import silhouette_score\n",
    "from sklearn.preprocessing import MinMaxScaler"
   ]
  },
  {
   "cell_type": "code",
   "execution_count": null,
   "id": "6be01bff-91c9-4ad4-bd19-7202944b289e",
   "metadata": {},
   "outputs": [],
   "source": [
    "X = dfnew[['Population Change', 'Population Change Fraction', 'Male Change', 'Male Change Fraction',\n",
    "           'Female Change', 'Female Change Fraction', 'Median Income Change', 'Median Income Change Fraction',\n",
    "           'Mean Income Change', 'Mean Income Change Fraction', 'White Change', 'White Change Fraction',\n",
    "           'Black or African American Change', 'Black or African American Change Fraction']].values\n",
    "#print(X)"
   ]
  },
  {
   "cell_type": "code",
   "execution_count": null,
   "id": "b265ac7c-e36b-47ba-9a37-91a836482a57",
   "metadata": {},
   "outputs": [],
   "source": [
    "# Create the model with some number of clusters\n",
    "# Choose the initial centroids at random\n",
    "# Run it with 10 different centroid seeds\n",
    "# Set the random seed to something deterministic (0 in this case)\n",
    "model = KMeans(n_clusters=3, init='random', n_init=10, random_state=0)\n",
    "\n",
    "# Run the clustering algorithm! \n",
    "labels_km = model.fit_predict(X)"
   ]
  },
  {
   "cell_type": "code",
   "execution_count": null,
   "id": "1e402b22-86b2-4853-9601-1f26e1b5450c",
   "metadata": {},
   "outputs": [],
   "source": [
    "labels_km"
   ]
  },
  {
   "cell_type": "code",
   "execution_count": null,
   "id": "fc3449ca-6b54-4c15-a85b-db48fb631d6e",
   "metadata": {},
   "outputs": [],
   "source": [
    "print(model.cluster_centers_)"
   ]
  },
  {
   "cell_type": "code",
   "execution_count": null,
   "id": "eb96a564-4284-412a-aef0-f023f4e6a6f9",
   "metadata": {},
   "outputs": [],
   "source": [
    "plt.figure(figsize=(10,8))\n",
    "\n",
    "# Plot the 3 clusters, making use of masking to display the first\n",
    "# two features (the 0th and 1st column), plotted versus each other\n",
    "plt.scatter(\n",
    "    X[labels_km == 0, 0], X[labels_km == 0, 1],\n",
    "    s=100, c='blue',\n",
    "    marker='s', edgecolor='black',\n",
    "    label='cluster 1'\n",
    ")\n",
    "\n",
    "plt.scatter(\n",
    "    X[labels_km == 1, 0], X[labels_km == 1, 1],\n",
    "    s=100, c='orange',\n",
    "    marker='o', edgecolor='black',\n",
    "    label='cluster 2'\n",
    ")\n",
    "\n",
    "plt.scatter(\n",
    "    X[labels_km == 2, 0], X[labels_km == 2, 1],\n",
    "    s=100, c='green',\n",
    "    marker='v', edgecolor='black',\n",
    "    label='cluster 3'\n",
    ")\n",
    "\n",
    "# Plot the centroids\n",
    "plt.scatter(\n",
    "    model.cluster_centers_[:, 0], model.cluster_centers_[:, 1],\n",
    "    s=750, marker='*',\n",
    "    c='red', edgecolor='black',\n",
    "    label='centroids'\n",
    ")\n",
    "plt.xlabel('Sepal length',fontsize=18)\n",
    "plt.ylabel('Sepal width', fontsize=18)\n",
    "plt.legend(scatterpoints=1)\n",
    "plt.grid()"
   ]
  },
  {
   "cell_type": "code",
   "execution_count": null,
   "id": "db683172-404b-43c3-b11a-d6bb8426eca1",
   "metadata": {},
   "outputs": [],
   "source": [
    "# Create the model with some number of clusters\n",
    "# Try 2 clusters\n",
    "model2 = KMeans(n_clusters=2, init='random', n_init=10, random_state=0)\n",
    "\n",
    "# Run the clustering algorithm! \n",
    "labels_km2 = model2.fit_predict(X)\n",
    "\n",
    "plt.figure(figsize=(10,8))\n",
    "\n",
    "# Plot the clusters, making use of masking to display the first\n",
    "# two features (the 0th and 1st column), plotted versus each other\n",
    "\n",
    "for i in range(0,2):\n",
    "\n",
    "  plt.scatter(\n",
    "      X[labels_km2 == i, 0], X[labels_km2 == i, 1],\n",
    "      s=100,\n",
    "      marker='s', edgecolor='black',\n",
    "      label=f'cluster {i+1}'\n",
    "  )\n",
    "\n",
    "\n",
    "# Plot the centroids\n",
    "plt.scatter(\n",
    "    model2.cluster_centers_[:, 0], model2.cluster_centers_[:, 1],\n",
    "    s=750, marker='*',\n",
    "    c='red', edgecolor='black',\n",
    "    label='centroids'\n",
    ")\n",
    "plt.xlabel('Sepal length',fontsize=18)\n",
    "plt.ylabel('Sepal width', fontsize=18)\n",
    "plt.legend(scatterpoints=1)\n",
    "plt.grid()\n",
    "\n",
    "\n",
    "pd.crosstab(dfnew['State'], labels_km2)"
   ]
  },
  {
   "cell_type": "code",
   "execution_count": null,
   "id": "40ca5818-a43b-4d07-802a-96ade840e05a",
   "metadata": {},
   "outputs": [],
   "source": [
    "# Create the model with some number of clusters\n",
    "# Try 6 clusters\n",
    "model3 = KMeans(n_clusters=6, init='random', n_init=10, random_state=0)\n",
    "\n",
    "# Run the clustering algorithm! \n",
    "labels_km3 = model3.fit_predict(X)\n",
    "\n",
    "plt.figure(figsize=(10,8))\n",
    "\n",
    "# Plot the clusters, making use of masking to display the first\n",
    "# two features (the 0th and 1st column), plotted versus each other\n",
    "\n",
    "for i in range(0,6):\n",
    "  plt.scatter(\n",
    "      X[labels_km3 == i, 0], X[labels_km3 == i, 1],\n",
    "      s=100,\n",
    "      marker='s', edgecolor='black',\n",
    "      label=f'cluster {i+1}'\n",
    "  )\n",
    "\n",
    "# Plot the centroids\n",
    "plt.scatter(\n",
    "    model3.cluster_centers_[:, 0], model3.cluster_centers_[:, 1],\n",
    "    s=750, marker='*',\n",
    "    c='red', edgecolor='black',\n",
    "    label='centroids'\n",
    ")\n",
    "plt.xlabel('Sepal length',fontsize=18)\n",
    "plt.ylabel('Sepal width', fontsize=18)\n",
    "plt.legend(scatterpoints=1)\n",
    "plt.grid()\n",
    "\n",
    "\n",
    "pd.crosstab(dfnew['State'], labels_km3)"
   ]
  },
  {
   "cell_type": "code",
   "execution_count": null,
   "id": "22d9233f-479c-4a97-af96-491d726d18b5",
   "metadata": {},
   "outputs": [],
   "source": [
    "print(model.inertia_)\n",
    "print(model2.inertia_)\n",
    "print(model3.inertia_)"
   ]
  },
  {
   "cell_type": "code",
   "execution_count": null,
   "id": "7148b32d-18a5-4a31-af97-a0b9af9a66b4",
   "metadata": {},
   "outputs": [],
   "source": [
    "inertias = []\n",
    "nclusters = []\n",
    "\n",
    "# Try from 1 to 10 clusters\n",
    "for i in range(1,11):\n",
    "  model_temp = KMeans(n_clusters=i, init='random', n_init=10, random_state=0)\n",
    "  model_temp.fit(X)\n",
    "\n",
    "  nclusters.append(i)\n",
    "  inertias.append(model_temp.inertia_)\n",
    "\n",
    "plt.figure(figsize=(8,6))\n",
    "plt.plot(nclusters, inertias)\n",
    "plt.xlabel('# of clusters', fontsize=18)\n",
    "plt.ylabel('inertia', fontsize=18)"
   ]
  },
  {
   "cell_type": "markdown",
   "id": "e6bff4e2-e70b-4ea7-a227-f2b225ecb2e2",
   "metadata": {
    "tags": []
   },
   "source": [
    "## HERE"
   ]
  },
  {
   "cell_type": "markdown",
   "id": "6a68780a-3f79-4262-9651-d7eabcf1d0ec",
   "metadata": {},
   "source": [
    "do next set of work here"
   ]
  },
  {
   "cell_type": "code",
   "execution_count": null,
   "id": "28ee9266-5807-494c-8475-b3a0f8c69545",
   "metadata": {},
   "outputs": [],
   "source": []
  }
 ],
 "metadata": {
  "kernelspec": {
   "display_name": "Python 3 (ipykernel)",
   "language": "python",
   "name": "python3"
  },
  "language_info": {
   "codemirror_mode": {
    "name": "ipython",
    "version": 3
   },
   "file_extension": ".py",
   "mimetype": "text/x-python",
   "name": "python",
   "nbconvert_exporter": "python",
   "pygments_lexer": "ipython3",
   "version": "3.9.13"
  }
 },
 "nbformat": 4,
 "nbformat_minor": 5
}

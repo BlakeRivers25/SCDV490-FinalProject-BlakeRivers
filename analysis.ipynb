{
 "cells": [
  {
   "cell_type": "markdown",
   "id": "7a7d5490-b4d8-417d-900a-e591842be2a9",
   "metadata": {
    "tags": []
   },
   "source": [
    "# Analysis of US Demographics From 2010 to 2020"
   ]
  },
  {
   "cell_type": "code",
   "execution_count": null,
   "id": "8726163a-b1e8-4d59-a5a6-feea64d51afc",
   "metadata": {},
   "outputs": [],
   "source": [
    "#IMPORT THESE IMPORTANT MODULES\n",
    "import matplotlib.pylab as plt\n",
    "import plotly.express as px\n",
    "import matplotlib\n",
    "import numpy as np\n",
    "import pandas as pd\n",
    "import seaborn as sns\n",
    "import utilities\n",
    "%load_ext autoreload\n",
    "%autoreload 2"
   ]
  },
  {
   "cell_type": "markdown",
   "id": "f418a292-0e10-41c6-a420-6b700cd3eef6",
   "metadata": {
    "jp-MarkdownHeadingCollapsed": true,
    "tags": []
   },
   "source": [
    "## Reading in the Datasets and Turning Them into Dataframes"
   ]
  },
  {
   "cell_type": "markdown",
   "id": "0d8a905f-cae6-4d45-a882-dc39ca98ec09",
   "metadata": {
    "jp-MarkdownHeadingCollapsed": true,
    "tags": []
   },
   "source": [
    "#### Income"
   ]
  },
  {
   "cell_type": "code",
   "execution_count": null,
   "id": "88c0de1c-422a-4a81-a695-1463fecd6289",
   "metadata": {},
   "outputs": [],
   "source": [
    "infilename = \"Data Sets/2000 Income Cleaned.csv\"\n",
    "df2000Income = utilities.parse_csv_file_to_dataframe(infilename, filetype='income', fileyear='2000')\n",
    "\n",
    "print('2000 Income Dataframe')\n",
    "#df2000Income"
   ]
  },
  {
   "cell_type": "code",
   "execution_count": null,
   "id": "b0f6d2f5-255a-413d-87e9-9bee032d8903",
   "metadata": {},
   "outputs": [],
   "source": [
    "infilename = \"Data Sets/2010 Income Cleaned.csv\"\n",
    "df2010Income = utilities.parse_csv_file_to_dataframe(infilename, filetype='income', fileyear='2010')\n",
    "\n",
    "print('2010 Income Dataframe')\n",
    "#df2010Income"
   ]
  },
  {
   "cell_type": "code",
   "execution_count": null,
   "id": "29192083-25d9-41c8-91ff-836952d26eb3",
   "metadata": {},
   "outputs": [],
   "source": [
    "infilename = \"Data Sets/2020 Income Cleaned.csv\"\n",
    "df2020Income = utilities.parse_csv_file_to_dataframe(infilename, filetype='income', fileyear='2020')\n",
    "\n",
    "print('2020 Income Dataframe')\n",
    "#df2020Income"
   ]
  },
  {
   "cell_type": "markdown",
   "id": "47edaa76-9069-46b0-bc0d-bb742afc5a20",
   "metadata": {
    "jp-MarkdownHeadingCollapsed": true,
    "tags": []
   },
   "source": [
    "#### Population and Demographics"
   ]
  },
  {
   "cell_type": "code",
   "execution_count": null,
   "id": "f3c7d0f7-cd89-48ba-a80e-440c8bffcc67",
   "metadata": {},
   "outputs": [],
   "source": [
    "infilename = \"Data Sets/2000 Population Cleaned.csv\"\n",
    "df2000Demographics = utilities.parse_csv_file_to_dataframe(infilename, filetype='demographics', fileyear='2000')\n",
    "\n",
    "print('2000 Demographics Dataframe')\n",
    "#df2000Demographics"
   ]
  },
  {
   "cell_type": "code",
   "execution_count": null,
   "id": "c654d12d-1e36-4f2b-a18d-cec4c66fd7f8",
   "metadata": {},
   "outputs": [],
   "source": [
    "infilename = \"Data Sets/2010 Population and Demographics Cleaned.csv\"\n",
    "df2010Demographics = utilities.parse_csv_file_to_dataframe(infilename, filetype='demographics', fileyear='2010')\n",
    "\n",
    "print('2010 Demographics Dataframe')\n",
    "#df2010Demographics"
   ]
  },
  {
   "cell_type": "code",
   "execution_count": null,
   "id": "7d332b30-3acc-420b-82d4-b04d2047ad5a",
   "metadata": {},
   "outputs": [],
   "source": [
    "infilename = \"Data Sets/2020 Population and Demographics Cleaned.csv\"\n",
    "df2020Demographics = utilities.parse_csv_file_to_dataframe(infilename, filetype='demographics', fileyear='2020')\n",
    "\n",
    "print('2020 Demographics Dataframe')\n",
    "#df2020Demographics"
   ]
  },
  {
   "cell_type": "markdown",
   "id": "2829e3db-38af-48ba-8bc4-1dbbafdef318",
   "metadata": {
    "jp-MarkdownHeadingCollapsed": true,
    "tags": []
   },
   "source": [
    "#### Removing Non-States from the Dataset"
   ]
  },
  {
   "cell_type": "code",
   "execution_count": null,
   "id": "8b4e5321-6e3d-4edc-8ff3-8b8b5f290c31",
   "metadata": {},
   "outputs": [],
   "source": [
    "#Drop Non-States into a Mask\n",
    "mask = (df2000Income['State'] == 'DC') | (df2000Income['State'] == 'PR')\n",
    "#Reassign the dataframe to give it the same name\n",
    "df2000Income = df2000Income[~mask]\n",
    "#df2000Income\n",
    "\n",
    "#Drop Non-States into a Mask\n",
    "mask = (df2010Income['State'] == 'DC') | (df2010Income['State'] == 'PR')\n",
    "#Reassign the dataframe to give it the same name\n",
    "df2010Income = df2010Income[~mask]\n",
    "#df2010Income\n",
    "\n",
    "#Drop Non-States into a Mask\n",
    "mask = (df2020Income['State'] == 'DC') | (df2020Income['State'] == 'PR')\n",
    "#Reassign the dataframe to give it the same name\n",
    "df2020Income = df2020Income[~mask]\n",
    "#df2020Income\n",
    "\n",
    "#Drop Non-States into a Mask\n",
    "mask = (df2000Demographics['State'] == 'DC') | (df2000Demographics['State'] == 'PR')\n",
    "#Reassign the dataframe to give it the same name\n",
    "df2000Demographics = df2000Demographics[~mask]\n",
    "#df2000Demographics\n",
    "\n",
    "#Drop Non-States into a Mask\n",
    "mask = (df2010Demographics['State'] == 'DC') | (df2010Demographics['State'] == 'PR')\n",
    "#Reassign the dataframe to give it the same name\n",
    "df2010Demographics = df2010Demographics[~mask]\n",
    "#df2010Demographics\n",
    "\n",
    "#Drop Non-States into a Mask\n",
    "mask = (df2020Demographics['State'] == 'DC') | (df2020Demographics['State'] == 'PR')\n",
    "#Reassign the dataframe to give it the same name\n",
    "df2020Demographics = df2020Demographics[~mask]\n",
    "#df2020Demographics"
   ]
  },
  {
   "cell_type": "markdown",
   "id": "35986a12-0bea-4949-b373-b31310fca30b",
   "metadata": {
    "jp-MarkdownHeadingCollapsed": true,
    "tags": []
   },
   "source": [
    "## Graphs of Features by Year"
   ]
  },
  {
   "cell_type": "markdown",
   "id": "7c1b5517-7159-4b56-a6b6-8f91c912ed18",
   "metadata": {
    "jp-MarkdownHeadingCollapsed": true,
    "tags": []
   },
   "source": [
    "### Making a New Dataframe With the Calculated Differences and Fractions"
   ]
  },
  {
   "cell_type": "code",
   "execution_count": null,
   "id": "5dca297d-009b-4d09-9a23-0d05e2652e0f",
   "metadata": {},
   "outputs": [],
   "source": [
    "#New Dataframe with State Names Copied Over\n",
    "dfnew = df2010Demographics[['State']].copy()"
   ]
  },
  {
   "cell_type": "code",
   "execution_count": null,
   "id": "7d18faff-f44d-4ce7-9390-5fb7a3210398",
   "metadata": {},
   "outputs": [],
   "source": [
    "#Adding all of the calcualted values to the new Dataframe dfnew\n",
    "#Total Population\n",
    "a = df2010Demographics['Population']\n",
    "b = df2020Demographics['Population']\n",
    "c = b - a\n",
    "dfnew['Population Change'] = c\n",
    "dfnew['Population Change Fraction'] = c/a\n",
    "\n",
    "dfnew['Population 2010'] = a\n",
    "dfnew['Population 2020'] = b\n",
    "#Number of Males\n",
    "d = df2010Demographics['Male']\n",
    "e = df2020Demographics['Male']\n",
    "f = e - d\n",
    "dfnew['Male Change'] = f\n",
    "dfnew['Male Change Fraction'] = f/d\n",
    "\n",
    "dfnew['Male 2010'] = d\n",
    "dfnew['Male 2020'] = e\n",
    "\n",
    "dfnew['Male Fraction 2010'] = d/a\n",
    "dfnew['Male Fraction 2020'] = e/b\n",
    "\n",
    "#Number of Females\n",
    "g = df2010Demographics['Female']\n",
    "h = df2020Demographics['Female']\n",
    "i = h - g\n",
    "dfnew['Female Change'] = i\n",
    "dfnew['Female Change Fraction'] = i/g\n",
    "\n",
    "dfnew['Female 2010'] = g\n",
    "dfnew['Female 2020'] = h\n",
    "\n",
    "dfnew['Female Fraction 2010'] = g/a\n",
    "dfnew['Female Fraction 2020'] = h/b\n",
    "\n",
    "\n",
    "\n",
    "dfnew['Male/Female 2010'] = d/g\n",
    "dfnew['Male/Female 2020'] = e/h\n",
    "\n",
    "dfnew['Male/Female Change'] = (e/h) - (d/g)\n",
    "\n",
    "#Median Income per Household\n",
    "j = df2010Income['Median']\n",
    "k = df2020Income['Median']\n",
    "l = k - j\n",
    "dfnew['Median Income Change'] = l\n",
    "dfnew['Median Income Change Fraction'] = l/j\n",
    "\n",
    "dfnew['Median Income 2010'] = j\n",
    "dfnew['Median Income 2020'] = k\n",
    "\n",
    "#Mean Income per Household\n",
    "m = df2010Income['Mean']\n",
    "n = df2020Income['Mean']\n",
    "o = n - m\n",
    "dfnew['Mean Income Change'] = o\n",
    "dfnew['Mean Income Change Fraction'] = o/m\n",
    "\n",
    "dfnew['Mean Income 2010'] = m\n",
    "dfnew['Mean Income 2020'] = n\n",
    "\n",
    "#Number of White as Only Race\n",
    "p = df2010Demographics['White']\n",
    "q = df2020Demographics['White']\n",
    "r = q - p\n",
    "dfnew['White Change'] = r\n",
    "dfnew['White Change Fraction'] = r/p\n",
    "\n",
    "dfnew['White 2010'] = p\n",
    "dfnew['White 2020'] = q\n",
    "\n",
    "dfnew['White Fraction 2010'] = p/a\n",
    "dfnew['White Fraction 2020'] = q/b\n",
    "\n",
    "\n",
    "\n",
    "#Number of Black or African American as Only Race\n",
    "t = df2010Demographics['Black or African American']\n",
    "u = df2020Demographics['Black or African American']\n",
    "v = u - t\n",
    "dfnew['Black or African American Change'] = v\n",
    "dfnew['Black or African American Change Fraction'] = v/t\n",
    "\n",
    "dfnew['Black 2010'] = t\n",
    "dfnew['Black 2020'] = u\n",
    "\n",
    "dfnew['Black Fraction 2010'] = t/a\n",
    "dfnew['Black Fraction 2020'] = u/b\n",
    "\n",
    "\n",
    "\n",
    "dfnew['White/Black 2010'] = p/t\n",
    "dfnew['White/Black 2020'] = q/u\n",
    "\n",
    "dfnew['White/Black Change'] = (q/u) - (p/t)\n",
    "\n",
    "#Printing out a snipit of the new dataframe that was created\n",
    "dfnew[0:10]"
   ]
  },
  {
   "cell_type": "markdown",
   "id": "ca1f224b-247d-4a0d-ba02-28ef6f90be69",
   "metadata": {
    "jp-MarkdownHeadingCollapsed": true,
    "tags": []
   },
   "source": [
    "### Creating the Graphs"
   ]
  },
  {
   "cell_type": "markdown",
   "id": "5289177b-738b-4e32-b621-4622f3df6891",
   "metadata": {
    "jp-MarkdownHeadingCollapsed": true,
    "tags": []
   },
   "source": [
    "#### Population"
   ]
  },
  {
   "cell_type": "code",
   "execution_count": null,
   "id": "90cd055d-ca5f-465f-b856-1a0ea1a54dc3",
   "metadata": {},
   "outputs": [],
   "source": [
    "# Sorting the dataframe from lowest to highest so it graphs nicer\n",
    "dfnew = dfnew.sort_values(by=['Population Change'], ascending=True)\n",
    "#dfnew"
   ]
  },
  {
   "cell_type": "code",
   "execution_count": null,
   "id": "877561e1-4392-436f-bf95-2eff61a961d1",
   "metadata": {},
   "outputs": [],
   "source": [
    "plt.figure(figsize=(16,8))\n",
    "dfnew.plot.bar(x='State',y='Population Change',ax=plt.gca())\n",
    "plt.title(\"2010 vs 2020 U.S. Population Change\", fontsize=20, fontweight ='bold')\n",
    "plt.ticklabel_format(style='plain', useOffset=False, axis='y')\n",
    "plt.grid()"
   ]
  },
  {
   "cell_type": "code",
   "execution_count": null,
   "id": "14216b43-db93-4920-b82e-2045b7a8fccf",
   "metadata": {},
   "outputs": [],
   "source": [
    "# Sorting the dataframe from lowest to highest so it graphs nicer\n",
    "dfnew = dfnew.sort_values(by=['Population Change Fraction'], ascending=True)\n",
    "#dfnew"
   ]
  },
  {
   "cell_type": "code",
   "execution_count": null,
   "id": "eea892e8-2881-4207-8cf4-8de662f7616d",
   "metadata": {},
   "outputs": [],
   "source": [
    "plt.figure(figsize=(16,8))\n",
    "dfnew.plot.bar(x='State',y='Population Change Fraction',ax=plt.gca())\n",
    "plt.title(\"2010 vs 2020 U.S. Population Change (Fraction)\", fontsize=20, fontweight ='bold')\n",
    "plt.grid()"
   ]
  },
  {
   "cell_type": "markdown",
   "id": "043e9a0f-3abe-4d35-ab9f-363a725f7e8a",
   "metadata": {
    "tags": []
   },
   "source": [
    "#### Sex (Female, Male)"
   ]
  },
  {
   "cell_type": "markdown",
   "id": "441203e3-d7b7-4e42-9e03-61eae94332e4",
   "metadata": {
    "jp-MarkdownHeadingCollapsed": true,
    "tags": []
   },
   "source": [
    "##### Male"
   ]
  },
  {
   "cell_type": "code",
   "execution_count": null,
   "id": "2f33684c-6a8c-404e-b973-65e22a59091a",
   "metadata": {},
   "outputs": [],
   "source": [
    "# Sorting the dataframe from lowest to highest so it graphs nicer\n",
    "dfnew = dfnew.sort_values(by=['Male Change'], ascending=True)\n",
    "#dfnew"
   ]
  },
  {
   "cell_type": "code",
   "execution_count": null,
   "id": "98301b6f-e299-49f2-afd9-f70d03448aba",
   "metadata": {},
   "outputs": [],
   "source": [
    "plt.figure(figsize=(16,8))\n",
    "dfnew.plot.bar(x='State',y='Male Change',ax=plt.gca())\n",
    "plt.title(\"2010 vs 2020 U.S. Male Population Change\", fontsize=20, fontweight ='bold')\n",
    "plt.ticklabel_format(style='plain', useOffset=False, axis='y')\n",
    "plt.grid()"
   ]
  },
  {
   "cell_type": "code",
   "execution_count": null,
   "id": "a135ff3a-8eb4-4404-ad3f-80cfa6ce42bb",
   "metadata": {},
   "outputs": [],
   "source": [
    "# Sorting the dataframe from lowest to highest so it graphs nicer\n",
    "dfnew = dfnew.sort_values(by=['Male Change Fraction'], ascending=True)\n",
    "#dfnew"
   ]
  },
  {
   "cell_type": "code",
   "execution_count": null,
   "id": "1adf6257-f9c6-4b8a-a846-b1ec4d43aa8c",
   "metadata": {},
   "outputs": [],
   "source": [
    "plt.figure(figsize=(16,8))\n",
    "dfnew.plot.bar(x='State',y='Male Change Fraction',ax=plt.gca())\n",
    "plt.title(\"2010 vs 2020 U.S. Male Population Change (Fraction)\", fontsize=20, fontweight ='bold')\n",
    "plt.grid()"
   ]
  },
  {
   "cell_type": "markdown",
   "id": "50a4ae03-3341-43b4-bbda-a68d8dde568b",
   "metadata": {
    "jp-MarkdownHeadingCollapsed": true,
    "tags": []
   },
   "source": [
    "##### Female"
   ]
  },
  {
   "cell_type": "code",
   "execution_count": null,
   "id": "4c6e36ee-0c0c-404a-8a77-287fb1fda9c5",
   "metadata": {},
   "outputs": [],
   "source": [
    "# Sorting the dataframe from lowest to highest so it graphs nicer\n",
    "dfnew = dfnew.sort_values(by=['Female Change'], ascending=True)\n",
    "#dfnew"
   ]
  },
  {
   "cell_type": "code",
   "execution_count": null,
   "id": "7603c634-9541-4b6f-94ad-b792d2884ed6",
   "metadata": {},
   "outputs": [],
   "source": [
    "plt.figure(figsize=(16,8))\n",
    "dfnew.plot.bar(x='State',y='Female Change',ax=plt.gca())\n",
    "plt.title(\"2010 vs 2020 U.S. Female Population Change\", fontsize=20, fontweight ='bold')\n",
    "plt.ticklabel_format(style='plain', useOffset=False, axis='y')\n",
    "plt.grid()"
   ]
  },
  {
   "cell_type": "code",
   "execution_count": null,
   "id": "23fa0cee-a4be-48ad-9513-6b5e0b73fa8b",
   "metadata": {},
   "outputs": [],
   "source": [
    "# Sorting the dataframe from lowest to highest so it graphs nicer\n",
    "dfnew = dfnew.sort_values(by=['Female Change Fraction'], ascending=True)\n",
    "#dfnew"
   ]
  },
  {
   "cell_type": "code",
   "execution_count": null,
   "id": "e9cf2155-9c13-43f6-b732-1cef5a23a28c",
   "metadata": {},
   "outputs": [],
   "source": [
    "plt.figure(figsize=(16,8))\n",
    "dfnew.plot.bar(x='State',y='Female Change Fraction',ax=plt.gca())\n",
    "plt.title(\"2010 vs 2020 U.S. Female Population Change (Fraction)\", fontsize=20, fontweight ='bold')\n",
    "plt.grid()"
   ]
  },
  {
   "cell_type": "markdown",
   "id": "a6fcef9d-4d2c-48af-bbdf-f1edda94af7d",
   "metadata": {
    "jp-MarkdownHeadingCollapsed": true,
    "tags": []
   },
   "source": [
    "##### Male/Female Same Graph"
   ]
  },
  {
   "cell_type": "code",
   "execution_count": null,
   "id": "8937692e-f6e1-4cf1-8a79-e717158752ce",
   "metadata": {},
   "outputs": [],
   "source": [
    "# Sorting the dataframe from lowest to highest so it graphs nicer\n",
    "dfnew = dfnew.sort_values(by=['Male Change','Female Change'], ascending=True)\n",
    "#dfnew"
   ]
  },
  {
   "cell_type": "code",
   "execution_count": null,
   "id": "c196a533-2ac2-4b7e-bc3b-f447fed23a79",
   "metadata": {},
   "outputs": [],
   "source": [
    "plt.figure(figsize=(16,8))\n",
    "dfnew.plot.bar(x='State',y='Male Change',ax=plt.gca(), color='blue', alpha=0.8, align='edge')\n",
    "dfnew.plot.bar(x='State', y='Female Change', ax=plt.gca(), color='pink', alpha=1.0, align='center')\n",
    "plt.title(\"2010 vs 2020 U.S. Male and Female Population Change\", fontsize=20, fontweight ='bold')\n",
    "plt.ticklabel_format(style='plain', useOffset=False, axis='y')\n",
    "plt.legend(fontsize=24)\n",
    "plt.grid()"
   ]
  },
  {
   "cell_type": "code",
   "execution_count": null,
   "id": "5f99877f-2dfa-4007-b399-1c7992c1fe61",
   "metadata": {},
   "outputs": [],
   "source": [
    "# Sorting the dataframe from lowest to highest so it graphs nicer\n",
    "dfnew = dfnew.sort_values(by=['Male Change Fraction','Female Change Fraction'], ascending=True)\n",
    "#dfnew"
   ]
  },
  {
   "cell_type": "code",
   "execution_count": null,
   "id": "f4cfe8c8-0b87-4ea2-a2a2-337286ceb673",
   "metadata": {},
   "outputs": [],
   "source": [
    "plt.figure(figsize=(16,8))\n",
    "dfnew.plot.bar(x='State',y='Male Change Fraction',ax=plt.gca(), color='blue', alpha=0.8, align='edge')\n",
    "dfnew.plot.bar(x='State', y='Female Change Fraction', ax=plt.gca(), color='pink', alpha=1.0, align='center')\n",
    "plt.title(\"2010 vs 2020 U.S. Male and Female Population Change (Fraction)\", fontsize=20, fontweight ='bold')\n",
    "plt.ticklabel_format(style='plain', useOffset=False, axis='y')\n",
    "plt.grid()"
   ]
  },
  {
   "cell_type": "code",
   "execution_count": null,
   "id": "a97bf848",
   "metadata": {},
   "outputs": [],
   "source": [
    "dfnew = dfnew.sort_values(by=['Male/Female 2010','Male/Female 2020'], ascending=True)\n",
    "\n",
    "\n",
    "plt.figure(figsize=(16,8))\n",
    "dfnew.plot.bar(x='State', y='Male/Female 2010',ax=plt.gca(), color='black', alpha=1.0, align='center')\n",
    "dfnew.plot.bar(x='State', y='Male/Female 2020', ax=plt.gca(), color='red', alpha=1.0, align='edge')\n",
    "plt.title(\"2010 vs 2020 U.S. Male/Female Ratio\", fontsize=20, fontweight ='bold')\n",
    "plt.ticklabel_format(style='plain', useOffset=False, axis='y')\n",
    "plt.legend(fontsize=24)\n",
    "plt.ylim(0.85)\n",
    "plt.axhline(y=1.0, color='k', linestyle='--', linewidth=3)\n",
    "plt.grid()\n",
    "\n",
    "# Black --> Red, increases --> % of men increased\n",
    "# Black --> Red, decreases --> % of women increased"
   ]
  },
  {
   "cell_type": "markdown",
   "id": "6638b61b-2777-4e91-86cb-cf6088109af6",
   "metadata": {
    "jp-MarkdownHeadingCollapsed": true,
    "tags": []
   },
   "source": [
    "#### Median Income"
   ]
  },
  {
   "cell_type": "code",
   "execution_count": null,
   "id": "cfcb5268-b07c-47af-8fd4-f6a57bc9f030",
   "metadata": {},
   "outputs": [],
   "source": [
    "# Sorting the dataframe from lowest to highest so it graphs nicer\n",
    "dfnew = dfnew.sort_values(by=['Median Income Change'], ascending=True)\n",
    "#dfnew"
   ]
  },
  {
   "cell_type": "code",
   "execution_count": null,
   "id": "586fbec3-e2b2-4e64-9d35-f8cd88cf34f1",
   "metadata": {},
   "outputs": [],
   "source": [
    "plt.figure(figsize=(16,8))\n",
    "dfnew.plot.bar(x='State',y='Median Income Change',ax=plt.gca())\n",
    "plt.title(\"2010 vs 2020 U.S. Median Income Change\", fontsize=20, fontweight ='bold')\n",
    "plt.ticklabel_format(style='plain', useOffset=False, axis='y')\n",
    "plt.grid()"
   ]
  },
  {
   "cell_type": "code",
   "execution_count": null,
   "id": "f5aeb975-0d88-4ae8-9a3f-707579090cb9",
   "metadata": {},
   "outputs": [],
   "source": [
    "# Sorting the dataframe from lowest to highest so it graphs nicer\n",
    "dfnew = dfnew.sort_values(by=['Median Income Change Fraction'], ascending=True)\n",
    "#dfnew"
   ]
  },
  {
   "cell_type": "code",
   "execution_count": null,
   "id": "a4ca6ab9-1644-41fd-8d33-c6ccf079f7e0",
   "metadata": {},
   "outputs": [],
   "source": [
    "plt.figure(figsize=(16,8))\n",
    "dfnew.plot.bar(x='State',y='Median Income Change Fraction',ax=plt.gca())\n",
    "plt.title(\"2010 vs 2020 U.S. Median Income Change (Fraction)\", fontsize=20, fontweight ='bold')\n",
    "plt.axhline(y=0.19, color='r', linewidth=3)\n",
    "plt.grid()"
   ]
  },
  {
   "cell_type": "markdown",
   "id": "fc976e3c-209a-4dda-bbaf-ef4114f330ef",
   "metadata": {
    "jp-MarkdownHeadingCollapsed": true,
    "tags": []
   },
   "source": [
    "#### Mean Income"
   ]
  },
  {
   "cell_type": "code",
   "execution_count": null,
   "id": "72a2bf1b-9e76-4bff-8b0c-2c07b129ae97",
   "metadata": {},
   "outputs": [],
   "source": [
    "# Sorting the dataframe from lowest to highest so it graphs nicer\n",
    "dfnew = dfnew.sort_values(by=['Mean Income Change'], ascending=True)\n",
    "#dfnew"
   ]
  },
  {
   "cell_type": "code",
   "execution_count": null,
   "id": "76fdb8c3-03dc-407d-8edb-a72dd26fe36c",
   "metadata": {},
   "outputs": [],
   "source": [
    "plt.figure(figsize=(16,8))\n",
    "dfnew.plot.bar(x='State',y='Mean Income Change',ax=plt.gca())\n",
    "plt.title(\"2010 vs 2020 U.S. Mean Income Change\", fontsize=20, fontweight ='bold')\n",
    "plt.ticklabel_format(style='plain', useOffset=False, axis='y')\n",
    "plt.grid()"
   ]
  },
  {
   "cell_type": "code",
   "execution_count": null,
   "id": "ef38a239-50f0-4889-92db-54889d8b3a19",
   "metadata": {},
   "outputs": [],
   "source": [
    "# Sorting the dataframe from lowest to highest so it graphs nicer\n",
    "dfnew = dfnew.sort_values(by=['Mean Income Change Fraction'], ascending=True)\n",
    "#dfnew"
   ]
  },
  {
   "cell_type": "code",
   "execution_count": null,
   "id": "e4a7335a-8881-4f42-9191-d9802f7e5ae2",
   "metadata": {},
   "outputs": [],
   "source": [
    "plt.figure(figsize=(16,8))\n",
    "dfnew.plot.bar(x='State',y='Mean Income Change Fraction',ax=plt.gca())\n",
    "plt.title(\"2010 vs 2020 U.S. Mean Income Change (Fraction)\", fontsize=20, fontweight ='bold')\n",
    "plt.axhline(y=0.19, color='r', linewidth=3)\n",
    "plt.grid()"
   ]
  },
  {
   "cell_type": "markdown",
   "id": "eeee2202-4aca-47e3-8685-db87779fac24",
   "metadata": {
    "jp-MarkdownHeadingCollapsed": true,
    "tags": []
   },
   "source": [
    "#### Racial (Black or African American, White)"
   ]
  },
  {
   "cell_type": "markdown",
   "id": "8687ce53-16eb-4665-b423-c56e7b2ebcfc",
   "metadata": {
    "jp-MarkdownHeadingCollapsed": true,
    "tags": []
   },
   "source": [
    "##### Black or African American"
   ]
  },
  {
   "cell_type": "code",
   "execution_count": null,
   "id": "f543875e-c361-4c30-98d4-8095468899c7",
   "metadata": {},
   "outputs": [],
   "source": [
    "# Sorting the dataframe from lowest to highest so it graphs nicer\n",
    "dfnew = dfnew.sort_values(by=['Black or African American Change'], ascending=True)\n",
    "#dfnew"
   ]
  },
  {
   "cell_type": "code",
   "execution_count": null,
   "id": "cc6649b2-3d76-42a3-877f-4546c36b1dec",
   "metadata": {},
   "outputs": [],
   "source": [
    "plt.figure(figsize=(16,8))\n",
    "dfnew.plot.bar(x='State',y='Black or African American Change',ax=plt.gca())\n",
    "plt.title(\"2010 vs 2020 U.S. Black or African American Population Change\", fontsize=20, fontweight ='bold')\n",
    "plt.ticklabel_format(style='plain', useOffset=False, axis='y')\n",
    "plt.grid()"
   ]
  },
  {
   "cell_type": "code",
   "execution_count": null,
   "id": "cb316cc4-dc5e-40a4-a6ba-699e5d537d91",
   "metadata": {},
   "outputs": [],
   "source": [
    "# Sorting the dataframe from lowest to highest so it graphs nicer\n",
    "dfnew = dfnew.sort_values(by=['Black or African American Change Fraction'], ascending=True)\n",
    "#dfnew"
   ]
  },
  {
   "cell_type": "code",
   "execution_count": null,
   "id": "753306b1-f73c-4ccd-9cfd-f0d24670b74f",
   "metadata": {},
   "outputs": [],
   "source": [
    "plt.figure(figsize=(16,8))\n",
    "dfnew.plot.bar(x='State',y='Black or African American Change Fraction',ax=plt.gca())\n",
    "plt.title(\"2010 vs 2020 U.S. Black or African American Population Change (Fraction)\", fontsize=20, fontweight ='bold')\n",
    "plt.grid()"
   ]
  },
  {
   "cell_type": "markdown",
   "id": "fb6fdfd4-fa8c-4665-aab9-c8cf2f4797e9",
   "metadata": {
    "jp-MarkdownHeadingCollapsed": true,
    "tags": []
   },
   "source": [
    "##### White"
   ]
  },
  {
   "cell_type": "code",
   "execution_count": null,
   "id": "800500cb-294a-474f-b2b1-6b8c4de242f1",
   "metadata": {},
   "outputs": [],
   "source": [
    "# Sorting the dataframe from lowest to highest so it graphs nicer\n",
    "dfnew = dfnew.sort_values(by=['White Change'], ascending=True)\n",
    "#dfnew"
   ]
  },
  {
   "cell_type": "code",
   "execution_count": null,
   "id": "f3be4d78-318a-4b8e-b5a2-59f4966d5eb0",
   "metadata": {},
   "outputs": [],
   "source": [
    "plt.figure(figsize=(16,8))\n",
    "dfnew.plot.bar(x='State',y='White Change',ax=plt.gca())\n",
    "plt.title(\"2010 vs 2020 U.S. White Population Change\", fontsize=20, fontweight ='bold')\n",
    "plt.ticklabel_format(style='plain', useOffset=False, axis='y')\n",
    "plt.grid()"
   ]
  },
  {
   "cell_type": "code",
   "execution_count": null,
   "id": "71ff089b-9fab-4510-80eb-6e85dabd807a",
   "metadata": {},
   "outputs": [],
   "source": [
    "# Sorting the dataframe from lowest to highest so it graphs nicer\n",
    "dfnew = dfnew.sort_values(by=['White Change Fraction'], ascending=True)\n",
    "#dfnew"
   ]
  },
  {
   "cell_type": "code",
   "execution_count": null,
   "id": "624b13ff-f1b4-41cc-978a-dbf41149e93c",
   "metadata": {},
   "outputs": [],
   "source": [
    "plt.figure(figsize=(16,8))\n",
    "dfnew.plot.bar(x='State',y='White Change Fraction',ax=plt.gca())\n",
    "plt.title(\"2010 vs 2020 U.S. White Population Change (Fraction)\", fontsize=20, fontweight ='bold')\n",
    "plt.grid()"
   ]
  },
  {
   "cell_type": "markdown",
   "id": "7acb7097-bb0a-4ce7-a5e6-d8258b98f8b1",
   "metadata": {
    "jp-MarkdownHeadingCollapsed": true,
    "tags": []
   },
   "source": [
    "##### White/Black Same Graph"
   ]
  },
  {
   "cell_type": "code",
   "execution_count": null,
   "id": "bad8d4e1",
   "metadata": {},
   "outputs": [],
   "source": [
    "dfnew = dfnew.sort_values(by=['White/Black 2020','White/Black 2010'], ascending=True)\n",
    "\n",
    "\n",
    "plt.figure(figsize=(16,8))\n",
    "dfnew.plot.bar(x='State', y='White/Black 2020', ax=plt.gca(), color='black', alpha=1.0, align='center')\n",
    "dfnew.plot.bar(x='State', y='White/Black 2010',ax=plt.gca(), color='red', alpha=1.0, align='edge')\n",
    "plt.title(\"2010 vs 2020 U.S. White/Black Ratio\", fontsize=20, fontweight ='bold')\n",
    "plt.ticklabel_format(style='plain', useOffset=False, axis='y')\n",
    "plt.legend(fontsize=24)\n",
    "\n",
    "plt.yscale('log')\n",
    "plt.yticks([2, 4, 6, 8, 10, 20, 40, 60, 80, 100])#, fontsize=18)\n",
    "#plt.locator_params(axis='y', bins=10)\n",
    "plt.gca().get_yaxis().set_major_formatter(matplotlib.ticker.ScalarFormatter())\n",
    "plt.ylabel('Ratio of # of White People to # of Black People',fontsize=18)\n",
    "plt.grid()"
   ]
  },
  {
   "cell_type": "markdown",
   "id": "c4b5b098-020e-48f4-bcd1-f9204cc32bca",
   "metadata": {
    "jp-MarkdownHeadingCollapsed": true,
    "tags": []
   },
   "source": [
    "## State Clustering"
   ]
  },
  {
   "cell_type": "markdown",
   "id": "141ac294-446c-4098-ba03-ef2ed46c5fd8",
   "metadata": {
    "jp-MarkdownHeadingCollapsed": true,
    "tags": []
   },
   "source": [
    "### 2020 Clustering Graph"
   ]
  },
  {
   "cell_type": "code",
   "execution_count": null,
   "id": "fddaed8c",
   "metadata": {},
   "outputs": [],
   "source": [
    "# Use only some\n",
    "\n",
    "features = ['Male/Female 2020', 'Black Fraction 2020', 'White Fraction 2020', 'Median Income 2020', 'Mean Income 2020']\n",
    "\n",
    "print(features)"
   ]
  },
  {
   "cell_type": "code",
   "execution_count": null,
   "id": "2fb0833c",
   "metadata": {},
   "outputs": [],
   "source": [
    "# Use only some\n",
    "plt.figure(figsize=(24,24))\n",
    "\n",
    "g = sns.PairGrid(dfnew[features])\n",
    "\n",
    "g.map_diag(sns.histplot)\n",
    "g.map_offdiag(sns.scatterplot)\n",
    "g.add_legend()"
   ]
  },
  {
   "cell_type": "code",
   "execution_count": null,
   "id": "59b8ae2d-2786-416f-9819-091d954152de",
   "metadata": {},
   "outputs": [],
   "source": [
    "from sklearn.cluster import KMeans\n",
    "from sklearn.metrics import silhouette_score\n",
    "from sklearn.preprocessing import MinMaxScaler"
   ]
  },
  {
   "cell_type": "code",
   "execution_count": null,
   "id": "6be01bff-91c9-4ad4-bd19-7202944b289e",
   "metadata": {},
   "outputs": [],
   "source": [
    "X = dfnew[features].values"
   ]
  },
  {
   "cell_type": "code",
   "execution_count": null,
   "id": "b265ac7c-e36b-47ba-9a37-91a836482a57",
   "metadata": {},
   "outputs": [],
   "source": [
    "# Create the model with some number of clusters\n",
    "# Choose the initial centroids at random\n",
    "# Run it with 10 different centroid seeds\n",
    "# Set the random seed to something deterministic (0 in this case)\n",
    "model = KMeans(n_clusters=3, init='random', n_init=10, random_state=0)\n",
    "\n",
    "# Run the clustering algorithm! \n",
    "labels_km = model.fit_predict(X)"
   ]
  },
  {
   "cell_type": "code",
   "execution_count": null,
   "id": "1e402b22-86b2-4853-9601-1f26e1b5450c",
   "metadata": {},
   "outputs": [],
   "source": [
    "labels_km"
   ]
  },
  {
   "cell_type": "code",
   "execution_count": null,
   "id": "fc3449ca-6b54-4c15-a85b-db48fb631d6e",
   "metadata": {},
   "outputs": [],
   "source": [
    "print(model.cluster_centers_)"
   ]
  },
  {
   "cell_type": "code",
   "execution_count": null,
   "id": "eb96a564-4284-412a-aef0-f023f4e6a6f9",
   "metadata": {},
   "outputs": [],
   "source": [
    "plt.figure(figsize=(10,8))\n",
    "\n",
    "idx0 = 2\n",
    "idx1 = 4\n",
    "\n",
    "label0 = features[idx0]\n",
    "label1 = features[idx1]\n",
    "\n",
    "\n",
    "# Plot the 3 clusters, making use of masking to display the first\n",
    "# two features (the 0th and 1st column), plotted versus each other\n",
    "plt.scatter(\n",
    "    X[labels_km == 0, idx0], X[labels_km == 0, idx1],\n",
    "    s=100, c='blue',\n",
    "    marker='s', edgecolor='black',\n",
    "    label='cluster 1'\n",
    ")\n",
    "\n",
    "plt.scatter(\n",
    "    X[labels_km == 1, idx0], X[labels_km == 1, idx1],\n",
    "    s=100, c='orange',\n",
    "    marker='o', edgecolor='black',\n",
    "    label='cluster 2'\n",
    ")\n",
    "\n",
    "plt.scatter(\n",
    "    X[labels_km == 2, idx0], X[labels_km == 2, idx1],\n",
    "    s=100, c='green',\n",
    "    marker='v', edgecolor='black',\n",
    "    label='cluster 3'\n",
    ")\n",
    "\n",
    "# Plot the centroids\n",
    "plt.scatter(\n",
    "    model.cluster_centers_[:, idx0], model.cluster_centers_[:, idx1],\n",
    "    s=750, marker='*',\n",
    "    c='red', edgecolor='black',\n",
    "    label='centroids'\n",
    ")\n",
    "plt.xlabel(label0,fontsize=18)\n",
    "plt.ylabel(label1, fontsize=18)\n",
    "plt.legend(scatterpoints=1, fontsize=20)\n",
    "plt.grid()"
   ]
  },
  {
   "cell_type": "code",
   "execution_count": null,
   "id": "1cb57dec",
   "metadata": {},
   "outputs": [],
   "source": [
    "labels_km\n",
    "states = dfnew['State']\n",
    "\n",
    "vals = np.unique(labels_km)\n",
    "print(vals)\n",
    "\n",
    "for v in vals:\n",
    "    print(f\"{v} ------\\n\")\n",
    "    print(states[labels_km==v].values)\n",
    "\n",
    "#print(states)"
   ]
  },
  {
   "cell_type": "code",
   "execution_count": null,
   "id": "a72111cd-2140-4939-9700-8c6acb43b5f6",
   "metadata": {},
   "outputs": [],
   "source": [
    "dfnewMap = dfnew.copy(deep=True)\n",
    "dfnewMap['KM Labels'] = labels_km\n",
    "#dfnewMap"
   ]
  },
  {
   "cell_type": "code",
   "execution_count": null,
   "id": "14c69057-26ae-481a-a9f1-763b8b57a44e",
   "metadata": {},
   "outputs": [],
   "source": [
    "fig = px.choropleth(dfnewMap,\n",
    "                    locations='State', \n",
    "                    locationmode=\"USA-states\", \n",
    "                    scope=\"usa\",\n",
    "                    color='KM Labels',\n",
    "                    color_continuous_scale=[\"blue\", \"orange\", \"green\"])\n",
    "fig.update_layout(\n",
    "      title_text = '2020 State Clustering (Mean Income by White Fraction)',\n",
    "      title_font_size = 20,\n",
    "      title_font_color=\"black\", \n",
    "      title_x=0.45)\n",
    "fig.show()"
   ]
  },
  {
   "cell_type": "markdown",
   "id": "12cd0a32-86a4-4bab-adc7-8239ffb3555c",
   "metadata": {
    "jp-MarkdownHeadingCollapsed": true,
    "tags": []
   },
   "source": [
    "### 2010 - 2020 Change Clustering Graph (Not Using)"
   ]
  },
  {
   "cell_type": "code",
   "execution_count": null,
   "id": "c5894512-dd44-44f4-9179-b8210391bb46",
   "metadata": {},
   "outputs": [],
   "source": [
    "#features = dfnew.columns.values\n",
    "features = ['Population Change', 'Population Change Fraction', 'Male Change', 'Male Change Fraction',\n",
    "           'Female Change', 'Female Change Fraction', 'Median Income Change', 'Median Income Change Fraction',\n",
    "           'Mean Income Change', 'Mean Income Change Fraction', 'White Change', 'White Change Fraction',\n",
    "           'Black or African American Change', 'Black or African American Change Fraction']\n",
    "\n",
    "print(features)"
   ]
  },
  {
   "cell_type": "code",
   "execution_count": null,
   "id": "8ee05a58-2610-463a-a7a8-42e422eeb765",
   "metadata": {},
   "outputs": [],
   "source": [
    "# Use only some\n",
    "plt.figure(figsize=(24,24))\n",
    "\n",
    "g = sns.PairGrid(dfnew[features])\n",
    "\n",
    "g.map_diag(sns.histplot)\n",
    "g.map_offdiag(sns.scatterplot)\n",
    "g.add_legend()"
   ]
  },
  {
   "cell_type": "code",
   "execution_count": null,
   "id": "e964ac72-a5c7-45a7-a6ef-dbb9b8beb87a",
   "metadata": {},
   "outputs": [],
   "source": [
    "from sklearn.cluster import KMeans\n",
    "from sklearn.metrics import silhouette_score\n",
    "from sklearn.preprocessing import MinMaxScaler"
   ]
  },
  {
   "cell_type": "code",
   "execution_count": null,
   "id": "8efeebff-bdcb-416a-a060-a116e9a73114",
   "metadata": {},
   "outputs": [],
   "source": [
    "X = dfnew[features].values"
   ]
  },
  {
   "cell_type": "code",
   "execution_count": null,
   "id": "8e6224a6-92cc-4e16-aba5-b745ccd27186",
   "metadata": {},
   "outputs": [],
   "source": [
    "# Create the model with some number of clusters\n",
    "# Choose the initial centroids at random\n",
    "# Run it with 10 different centroid seeds\n",
    "# Set the random seed to something deterministic (0 in this case)\n",
    "model = KMeans(n_clusters=3, init='random', n_init=10, random_state=0)\n",
    "\n",
    "# Run the clustering algorithm! \n",
    "labels_km = model.fit_predict(X)"
   ]
  },
  {
   "cell_type": "code",
   "execution_count": null,
   "id": "85f82904-ad62-4a58-9f2a-bd3d05a5bad0",
   "metadata": {},
   "outputs": [],
   "source": [
    "labels_km"
   ]
  },
  {
   "cell_type": "code",
   "execution_count": null,
   "id": "7f942cd6-9f6e-44ba-8fd4-aeb37cf743b9",
   "metadata": {},
   "outputs": [],
   "source": [
    "print(model.cluster_centers_)"
   ]
  },
  {
   "cell_type": "code",
   "execution_count": null,
   "id": "75a9e759-7a3b-4522-b02b-829065a56152",
   "metadata": {},
   "outputs": [],
   "source": [
    "features[11]"
   ]
  },
  {
   "cell_type": "code",
   "execution_count": null,
   "id": "ba4f879d-9a5d-4c54-8fdd-a5d3bb2d7b24",
   "metadata": {},
   "outputs": [],
   "source": [
    "plt.figure(figsize=(10,8))\n",
    "\n",
    "idx0 = 1\n",
    "idx1 = 11\n",
    "\n",
    "label0 = features[idx0]\n",
    "label1 = features[idx1]\n",
    "\n",
    "\n",
    "# Plot the 3 clusters, making use of masking to display the first\n",
    "# two features (the 0th and 1st column), plotted versus each other\n",
    "plt.scatter(\n",
    "    X[labels_km == 0, idx0], X[labels_km == 0, idx1],\n",
    "    s=100, c='blue',\n",
    "    marker='s', edgecolor='black',\n",
    "    label='cluster 1'\n",
    ")\n",
    "\n",
    "plt.scatter(\n",
    "    X[labels_km == 1, idx0], X[labels_km == 1, idx1],\n",
    "    s=100, c='orange',\n",
    "    marker='o', edgecolor='black',\n",
    "    label='cluster 2'\n",
    ")\n",
    "\n",
    "plt.scatter(\n",
    "    X[labels_km == 2, idx0], X[labels_km == 2, idx1],\n",
    "    s=100, c='green',\n",
    "    marker='v', edgecolor='black',\n",
    "    label='cluster 3'\n",
    ")\n",
    "\n",
    "# Plot the centroids\n",
    "plt.scatter(\n",
    "    model.cluster_centers_[:, idx0], model.cluster_centers_[:, idx1],\n",
    "    s=750, marker='*',\n",
    "    c='red', edgecolor='black',\n",
    "    label='centroids'\n",
    ")\n",
    "plt.xlabel(label0,fontsize=18)\n",
    "plt.ylabel(label1, fontsize=18)\n",
    "plt.legend(scatterpoints=1, fontsize=20)\n",
    "plt.grid()"
   ]
  },
  {
   "cell_type": "code",
   "execution_count": null,
   "id": "a03ea98a-cd1b-4389-a8e3-420d4f7883f9",
   "metadata": {},
   "outputs": [],
   "source": [
    "labels_km\n",
    "states = dfnew['State']\n",
    "\n",
    "vals = np.unique(labels_km)\n",
    "print(vals)\n",
    "\n",
    "for v in vals:\n",
    "    print(f\"{v} ------\\n\")\n",
    "    print(states[labels_km==v].values)\n",
    "\n",
    "#print(states)"
   ]
  },
  {
   "cell_type": "code",
   "execution_count": null,
   "id": "413decbe-43aa-4750-abae-f9dc5d7b7fdd",
   "metadata": {},
   "outputs": [],
   "source": [
    "dfnewMap = dfnew.copy(deep=True)\n",
    "dfnewMap['KM Labels'] = labels_km\n",
    "#dfnewMap"
   ]
  },
  {
   "cell_type": "code",
   "execution_count": null,
   "id": "1a4a0e5a-f81d-42e9-bf7f-f8d901a9cceb",
   "metadata": {},
   "outputs": [],
   "source": [
    "fig = px.choropleth(dfnewMap,\n",
    "                    locations='State', \n",
    "                    locationmode=\"USA-states\", \n",
    "                    scope=\"usa\",\n",
    "                    color='KM Labels',\n",
    "                    color_continuous_scale=[\"blue\", \"orange\", \"green\"])\n",
    "fig.update_layout(\n",
    "      title_text = '2010-2020 State Change Clustering (???)',\n",
    "      title_font_size = 20,\n",
    "      title_font_color=\"black\", \n",
    "      title_x=0.45)\n",
    "fig.show()"
   ]
  },
  {
   "cell_type": "markdown",
   "id": "ce627387-6f3b-4ac4-9473-9f78f4526073",
   "metadata": {
    "jp-MarkdownHeadingCollapsed": true,
    "tags": []
   },
   "source": [
    "### 3-D Graph if Wanted"
   ]
  },
  {
   "cell_type": "code",
   "execution_count": null,
   "id": "94cbbe25-9269-477f-a21b-6f741063a70b",
   "metadata": {},
   "outputs": [],
   "source": [
    "from sklearn.cluster import KMeans\n",
    "from sklearn.preprocessing import StandardScaler\n",
    "import plotly.express as px\n",
    "\n",
    "X_std = StandardScaler().fit_transform(dfnew[features])\n",
    "\n",
    "km = KMeans(\n",
    "    n_clusters=3, init='random',\n",
    "    n_init=10, max_iter=300, \n",
    "    tol=1e-04, random_state=0\n",
    ")\n",
    "X = StandardScaler().fit_transform(dfnew[features])\n",
    "y_km = km.fit_predict(X)\n",
    "fig = px.scatter_3d(X_std, x=1, y=11, z=2, color=y_km)\n",
    "fig.show()"
   ]
  },
  {
   "cell_type": "markdown",
   "id": "a519b830-bfe8-43a7-925a-d829a821a661",
   "metadata": {
    "jp-MarkdownHeadingCollapsed": true,
    "tags": []
   },
   "source": [
    "### 2010-2020 Change With Less Features"
   ]
  },
  {
   "cell_type": "code",
   "execution_count": null,
   "id": "142e5bc4-750e-40a5-a7f5-93b14d843e1d",
   "metadata": {},
   "outputs": [],
   "source": [
    "#features = dfnew.columns.values\n",
    "features = ['Population Change Fraction', 'Mean Income Change', 'Mean Income Change Fraction']\n",
    "\n",
    "print(features)"
   ]
  },
  {
   "cell_type": "code",
   "execution_count": null,
   "id": "c57c159f-4e56-45fe-8e47-41c0ae713a1a",
   "metadata": {},
   "outputs": [],
   "source": [
    "# Use only some\n",
    "plt.figure(figsize=(24,24))\n",
    "\n",
    "g = sns.PairGrid(dfnew[features])\n",
    "\n",
    "g.map_diag(sns.histplot)\n",
    "g.map_offdiag(sns.scatterplot)\n",
    "g.add_legend()"
   ]
  },
  {
   "cell_type": "code",
   "execution_count": null,
   "id": "53145014-e148-4e15-a009-7af7852e7b68",
   "metadata": {},
   "outputs": [],
   "source": [
    "from sklearn.cluster import KMeans\n",
    "from sklearn.metrics import silhouette_score\n",
    "from sklearn.preprocessing import MinMaxScaler"
   ]
  },
  {
   "cell_type": "code",
   "execution_count": null,
   "id": "354e804f-4272-4216-ae63-8d4309bc9ead",
   "metadata": {},
   "outputs": [],
   "source": [
    "X = dfnew[features].values"
   ]
  },
  {
   "cell_type": "code",
   "execution_count": null,
   "id": "17226a58-c27e-449f-814e-4806352856ab",
   "metadata": {},
   "outputs": [],
   "source": [
    "# Create the model with some number of clusters\n",
    "# Choose the initial centroids at random\n",
    "# Run it with 10 different centroid seeds\n",
    "# Set the random seed to something deterministic (0 in this case)\n",
    "model = KMeans(n_clusters=3, init='random', n_init=10, random_state=0)\n",
    "\n",
    "# Run the clustering algorithm! \n",
    "labels_km = model.fit_predict(X)"
   ]
  },
  {
   "cell_type": "code",
   "execution_count": null,
   "id": "24540a4c-6a53-4b19-9105-35f4a8cba595",
   "metadata": {},
   "outputs": [],
   "source": [
    "labels_km"
   ]
  },
  {
   "cell_type": "code",
   "execution_count": null,
   "id": "36428bea-3c04-44fa-afc6-13a9ac18faa7",
   "metadata": {},
   "outputs": [],
   "source": [
    "plt.figure(figsize=(10,8))\n",
    "\n",
    "idx0 = 0\n",
    "idx1 = 1\n",
    "\n",
    "label0 = features[idx0]\n",
    "label1 = features[idx1]\n",
    "\n",
    "\n",
    "# Plot the 3 clusters, making use of masking to display the first\n",
    "# two features (the 0th and 1st column), plotted versus each other\n",
    "plt.scatter(\n",
    "    X[labels_km == 0, idx0], X[labels_km == 0, idx1],\n",
    "    s=100, c='blue',\n",
    "    marker='s', edgecolor='black',\n",
    "    label='cluster 1'\n",
    ")\n",
    "\n",
    "plt.scatter(\n",
    "    X[labels_km == 1, idx0], X[labels_km == 1, idx1],\n",
    "    s=100, c='orange',\n",
    "    marker='o', edgecolor='black',\n",
    "    label='cluster 2'\n",
    ")\n",
    "\n",
    "plt.scatter(\n",
    "    X[labels_km == 2, idx0], X[labels_km == 2, idx1],\n",
    "    s=100, c='green',\n",
    "    marker='v', edgecolor='black',\n",
    "    label='cluster 3'\n",
    ")\n",
    "\n",
    "# Plot the centroids\n",
    "plt.scatter(\n",
    "    model.cluster_centers_[:, idx0], model.cluster_centers_[:, idx1],\n",
    "    s=750, marker='*',\n",
    "    c='red', edgecolor='black',\n",
    "    label='centroids'\n",
    ")\n",
    "plt.xlabel(label0,fontsize=18)\n",
    "plt.ylabel(label1, fontsize=18)\n",
    "plt.legend(scatterpoints=1, fontsize=15, loc='upper left')\n",
    "plt.grid()"
   ]
  },
  {
   "cell_type": "code",
   "execution_count": null,
   "id": "2920740c-d9ac-4a9a-b68f-8086d295add3",
   "metadata": {},
   "outputs": [],
   "source": [
    "labels_km\n",
    "states = dfnew['State']\n",
    "\n",
    "vals = np.unique(labels_km)\n",
    "print(vals)\n",
    "\n",
    "for v in vals:\n",
    "    print(f\"{v} ------\\n\")\n",
    "    print(states[labels_km==v].values)\n",
    "\n",
    "#print(states)"
   ]
  },
  {
   "cell_type": "code",
   "execution_count": null,
   "id": "548eb067-dfa1-495b-b733-201da9c4ee02",
   "metadata": {},
   "outputs": [],
   "source": [
    "dfnewMap = dfnew.copy(deep=True)\n",
    "dfnewMap['KM Labels'] = labels_km\n",
    "#dfnewMap"
   ]
  },
  {
   "cell_type": "code",
   "execution_count": null,
   "id": "fe60abf3-2abb-4238-a767-88b3aa82dec8",
   "metadata": {},
   "outputs": [],
   "source": [
    "fig = px.choropleth(dfnewMap,\n",
    "                    locations='State', \n",
    "                    locationmode=\"USA-states\", \n",
    "                    scope=\"usa\",\n",
    "                    color='KM Labels',\n",
    "                    color_continuous_scale=[\"blue\", \"orange\", \"green\"])\n",
    "fig.update_layout(\n",
    "      title_text = '2010-2020 (Mean Income Change by Pop. Change Frac.)',\n",
    "      title_font_size = 20,\n",
    "      title_font_color=\"black\", \n",
    "      title_x=0.45)\n",
    "fig.show()"
   ]
  },
  {
   "cell_type": "markdown",
   "id": "b259bc53-5888-4c8e-b268-340e1a84d3b3",
   "metadata": {
    "jp-MarkdownHeadingCollapsed": true,
    "tags": []
   },
   "source": [
    "### Other Clustering"
   ]
  },
  {
   "cell_type": "code",
   "execution_count": null,
   "id": "db683172-404b-43c3-b11a-d6bb8426eca1",
   "metadata": {},
   "outputs": [],
   "source": [
    "# Create the model with some number of clusters\n",
    "# Try 2 clusters\n",
    "model2 = KMeans(n_clusters=2, init='random', n_init=10, random_state=0)\n",
    "\n",
    "# Run the clustering algorithm! \n",
    "labels_km2 = model2.fit_predict(X)\n",
    "\n",
    "plt.figure(figsize=(10,8))\n",
    "\n",
    "# Plot the clusters, making use of masking to display the first\n",
    "# two features (the 0th and 1st column), plotted versus each other\n",
    "\n",
    "for i in range(0,2):\n",
    "\n",
    "  plt.scatter(\n",
    "      X[labels_km2 == i, 0], X[labels_km2 == i, 1],\n",
    "      s=100,\n",
    "      marker='s', edgecolor='black',\n",
    "      label=f'cluster {i+1}'\n",
    "  )\n",
    "\n",
    "\n",
    "# Plot the centroids\n",
    "plt.scatter(\n",
    "    model2.cluster_centers_[:, 0], model2.cluster_centers_[:, 1],\n",
    "    s=750, marker='*',\n",
    "    c='red', edgecolor='black',\n",
    "    label='centroids'\n",
    ")\n",
    "plt.xlabel('Sepal length',fontsize=18)\n",
    "plt.ylabel('Sepal width', fontsize=18)\n",
    "plt.legend(scatterpoints=1)\n",
    "plt.grid()\n",
    "\n",
    "\n",
    "pd.crosstab(dfnew['State'], labels_km2)"
   ]
  },
  {
   "cell_type": "code",
   "execution_count": null,
   "id": "40ca5818-a43b-4d07-802a-96ade840e05a",
   "metadata": {},
   "outputs": [],
   "source": [
    "# Create the model with some number of clusters\n",
    "# Try 6 clusters\n",
    "model3 = KMeans(n_clusters=6, init='random', n_init=10, random_state=0)\n",
    "\n",
    "# Run the clustering algorithm! \n",
    "labels_km3 = model3.fit_predict(X)\n",
    "\n",
    "plt.figure(figsize=(10,8))\n",
    "\n",
    "# Plot the clusters, making use of masking to display the first\n",
    "# two features (the 0th and 1st column), plotted versus each other\n",
    "\n",
    "for i in range(0,6):\n",
    "  plt.scatter(\n",
    "      X[labels_km3 == i, 0], X[labels_km3 == i, 1],\n",
    "      s=100,\n",
    "      marker='s', edgecolor='black',\n",
    "      label=f'cluster {i+1}'\n",
    "  )\n",
    "\n",
    "# Plot the centroids\n",
    "plt.scatter(\n",
    "    model3.cluster_centers_[:, 0], model3.cluster_centers_[:, 1],\n",
    "    s=750, marker='*',\n",
    "    c='red', edgecolor='black',\n",
    "    label='centroids'\n",
    ")\n",
    "plt.xlabel('Sepal length',fontsize=18)\n",
    "plt.ylabel('Sepal width', fontsize=18)\n",
    "plt.legend(scatterpoints=1)\n",
    "plt.grid()\n",
    "\n",
    "\n",
    "pd.crosstab(dfnew['State'], labels_km3)"
   ]
  },
  {
   "cell_type": "code",
   "execution_count": null,
   "id": "22d9233f-479c-4a97-af96-491d726d18b5",
   "metadata": {},
   "outputs": [],
   "source": [
    "print(model.inertia_)\n",
    "print(model2.inertia_)\n",
    "print(model3.inertia_)"
   ]
  },
  {
   "cell_type": "code",
   "execution_count": null,
   "id": "7148b32d-18a5-4a31-af97-a0b9af9a66b4",
   "metadata": {},
   "outputs": [],
   "source": [
    "inertias = []\n",
    "nclusters = []\n",
    "\n",
    "# Try from 1 to 10 clusters\n",
    "for i in range(1,11):\n",
    "  model_temp = KMeans(n_clusters=i, init='random', n_init=10, random_state=0)\n",
    "  model_temp.fit(X)\n",
    "\n",
    "  nclusters.append(i)\n",
    "  inertias.append(model_temp.inertia_)\n",
    "\n",
    "plt.figure(figsize=(8,6))\n",
    "plt.plot(nclusters, inertias)\n",
    "plt.xlabel('# of clusters', fontsize=18)\n",
    "plt.ylabel('inertia', fontsize=18)"
   ]
  },
  {
   "cell_type": "markdown",
   "id": "e6bff4e2-e70b-4ea7-a227-f2b225ecb2e2",
   "metadata": {
    "jp-MarkdownHeadingCollapsed": true,
    "tags": []
   },
   "source": [
    "## Specific State Graphs"
   ]
  },
  {
   "cell_type": "markdown",
   "id": "6a68780a-3f79-4262-9651-d7eabcf1d0ec",
   "metadata": {
    "jp-MarkdownHeadingCollapsed": true,
    "tags": []
   },
   "source": [
    "#### PA/AZ: Percentage(%)"
   ]
  },
  {
   "cell_type": "code",
   "execution_count": null,
   "id": "a5d68b56-2f2d-4145-9b6b-3900f1a3fe3d",
   "metadata": {},
   "outputs": [],
   "source": [
    "# Getting the Arizona Data\n",
    "AZdf2020 = df2020Demographics.loc[df2020Demographics['State'] == 'AZ']\n",
    "AZ2020Ages = AZdf2020[['Under 5 yrs', '5-9 yrs', '10-14 yrs', '15-19 yrs', '20-24 yrs', '25-34 yrs', \n",
    "                       '35-44 yrs', '45-54 yrs', '55-59 yrs', '60-64 yrs', '65-74 yrs', '75-84 yrs', '85 yrs and Older']]\n",
    "# Getting the Pennsylvania Data\n",
    "PAdf2020 = df2020Demographics.loc[df2020Demographics['State'] == 'PA']\n",
    "PA2020Ages = PAdf2020[['Under 5 yrs', '5-9 yrs', '10-14 yrs', '15-19 yrs', '20-24 yrs', '25-34 yrs', \n",
    "                       '35-44 yrs', '45-54 yrs', '55-59 yrs', '60-64 yrs', '65-74 yrs', '75-84 yrs', '85 yrs and Older']]\n",
    "# Adding the 2 dataframes together\n",
    "AZPAdf2020 = pd.concat([AZ2020Ages, PA2020Ages], ignore_index = True)\n",
    "AZPAdf2020 = AZPAdf2020.transpose()\n",
    "#AZPAdf2020\n",
    "\n",
    "# Getting the sum of each State\n",
    "df2 = AZPAdf2020.sum()\n",
    "AZMean = df2[0]\n",
    "PAMean = df2[1]\n",
    "#print(AZMean)\n",
    "#print(PAMean)\n",
    "\n",
    "# Transposing the dataframe again\n",
    "AZPAdf2020 = AZPAdf2020.transpose()\n",
    "#AZPAdf2020\n",
    "\n",
    "# ARIZONA TO %\n",
    "# Gets all of the percentages for AZ Age Groups\n",
    "Group1 = AZdf2020['Under 5 yrs'].div(AZMean)\n",
    "Group2 = AZdf2020['5-9 yrs'].div(AZMean)\n",
    "Group3 = AZdf2020['10-14 yrs'].div(AZMean)\n",
    "Group4 = AZdf2020['15-19 yrs'].div(AZMean)\n",
    "Group5 = AZdf2020['20-24 yrs'].div(AZMean)\n",
    "Group6 = AZdf2020['25-34 yrs'].div(AZMean)\n",
    "Group7 = AZdf2020['35-44 yrs'].div(AZMean)\n",
    "Group8 = AZdf2020['45-54 yrs'].div(AZMean)\n",
    "Group9 = AZdf2020['55-59 yrs'].div(AZMean)\n",
    "Group10 = AZdf2020['60-64 yrs'].div(AZMean)\n",
    "Group11 = AZdf2020['65-74 yrs'].div(AZMean)\n",
    "Group12 = AZdf2020['75-84 yrs'].div(AZMean)\n",
    "Group13 = AZdf2020['85 yrs and Older'].div(AZMean)\n",
    "# Replaces AZ nmumbers with percentages\n",
    "AZPAdf2020.at[0,'Under 5 yrs']=Group1\n",
    "AZPAdf2020.at[0,'5-9 yrs']=Group2\n",
    "AZPAdf2020.at[0,'10-14 yrs']=Group3\n",
    "AZPAdf2020.at[0,'15-19 yrs']=Group4\n",
    "AZPAdf2020.at[0,'20-24 yrs']=Group5\n",
    "AZPAdf2020.at[0,'25-34 yrs']=Group6\n",
    "AZPAdf2020.at[0,'35-44 yrs']=Group7\n",
    "AZPAdf2020.at[0,'45-54 yrs']=Group8\n",
    "AZPAdf2020.at[0,'55-59 yrs']=Group9\n",
    "AZPAdf2020.at[0,'60-64 yrs']=Group10\n",
    "AZPAdf2020.at[0,'65-74 yrs']=Group11\n",
    "AZPAdf2020.at[0,'75-84 yrs']=Group12\n",
    "AZPAdf2020.at[0,'85 yrs and Older']=Group13\n",
    "\n",
    "#PENNSYLVANIA TO %\n",
    "# Gets all of the percentages for PA Age Groups\n",
    "Group1 = PAdf2020['Under 5 yrs'].div(PAMean)\n",
    "Group2 = PAdf2020['5-9 yrs'].div(PAMean)\n",
    "Group3 = PAdf2020['10-14 yrs'].div(PAMean)\n",
    "Group4 = PAdf2020['15-19 yrs'].div(PAMean)\n",
    "Group5 = PAdf2020['20-24 yrs'].div(PAMean)\n",
    "Group6 = PAdf2020['25-34 yrs'].div(PAMean)\n",
    "Group7 = PAdf2020['35-44 yrs'].div(PAMean)\n",
    "Group8 = PAdf2020['45-54 yrs'].div(PAMean)\n",
    "Group9 = PAdf2020['55-59 yrs'].div(PAMean)\n",
    "Group10 = PAdf2020['60-64 yrs'].div(PAMean)\n",
    "Group11 = PAdf2020['65-74 yrs'].div(PAMean)\n",
    "Group12 = PAdf2020['75-84 yrs'].div(PAMean)\n",
    "Group13 = PAdf2020['85 yrs and Older'].div(PAMean)\n",
    "# Replaces PA nmumbers with percentages\n",
    "AZPAdf2020.at[1,'Under 5 yrs']=Group1\n",
    "AZPAdf2020.at[1,'5-9 yrs']=Group2\n",
    "AZPAdf2020.at[1,'10-14 yrs']=Group3\n",
    "AZPAdf2020.at[1,'15-19 yrs']=Group4\n",
    "AZPAdf2020.at[1,'20-24 yrs']=Group5\n",
    "AZPAdf2020.at[1,'25-34 yrs']=Group6\n",
    "AZPAdf2020.at[1,'35-44 yrs']=Group7\n",
    "AZPAdf2020.at[1,'45-54 yrs']=Group8\n",
    "AZPAdf2020.at[1,'55-59 yrs']=Group9\n",
    "AZPAdf2020.at[1,'60-64 yrs']=Group10\n",
    "AZPAdf2020.at[1,'65-74 yrs']=Group11\n",
    "AZPAdf2020.at[1,'75-84 yrs']=Group12\n",
    "AZPAdf2020.at[1,'85 yrs and Older']=Group13\n",
    "\n",
    "# Transpose the data one last time\n",
    "AZPAdf2020 = AZPAdf2020.transpose()\n",
    "AZPAdf2020"
   ]
  },
  {
   "cell_type": "code",
   "execution_count": null,
   "id": "140ed155-47be-4711-9335-0b5b6629b6c4",
   "metadata": {},
   "outputs": [],
   "source": [
    "# set width of bar\n",
    "barWidth = 0.35\n",
    "fig = plt.subplots(figsize =(20, 10))\n",
    " \n",
    "# set the values for each bar\n",
    "StateAZ = AZPAdf2020[0]\n",
    "StatePA = AZPAdf2020[1]\n",
    "\n",
    "\n",
    " \n",
    "# Set position of bar on X axis\n",
    "br1 = np.arange(len(AZPAdf2020))\n",
    "br2 = [x + barWidth for x in br1]\n",
    " \n",
    "# Make the plot\n",
    "plt.bar(br1, StateAZ, color ='red', width = barWidth,\n",
    "         edgecolor ='grey', label ='Arizona')\n",
    "plt.bar(br2, StatePA, color ='black', width = barWidth,\n",
    "        edgecolor ='grey', label ='Pennsylvania')\n",
    " \n",
    "# Adding Xticks\n",
    "plt.title('Arizona vs Pennsylvania Ages by Range (%)', fontweight ='bold', fontsize = 20)\n",
    "plt.xlabel('Age Range', fontsize = 15)\n",
    "plt.ylabel('% Number of People', fontsize = 15)\n",
    "plt.xticks([r + barWidth for r in range(len(AZPAdf2020))],\n",
    "        ['Under 5 yrs', '5-9 yrs', '10-14 yrs', '15-19 yrs', '20-24 yrs', '25-34 yrs', \n",
    "         '35-44 yrs', '45-54 yrs', '55-59 yrs', '60-64 yrs', '65-74 yrs', '75-84 yrs', '85 yrs and Older'])\n",
    " \n",
    "plt.legend(fontsize=20)\n",
    "plt.ticklabel_format(style='plain', useOffset=False, axis='y')\n",
    "plt.show()"
   ]
  },
  {
   "cell_type": "markdown",
   "id": "6e32ee20-dfd5-47c7-90a6-612e9a1963fe",
   "metadata": {
    "jp-MarkdownHeadingCollapsed": true,
    "tags": []
   },
   "source": [
    "#### AZ/PA: Actual Numbers"
   ]
  },
  {
   "cell_type": "code",
   "execution_count": null,
   "id": "415292ff-749b-4cbf-9a22-ac5c18e5ef04",
   "metadata": {},
   "outputs": [],
   "source": [
    "# Getting the Arizona Data\n",
    "AZdf2020 = df2020Demographics.loc[df2020Demographics['State'] == 'AZ']\n",
    "AZ2020Ages = AZdf2020[['Under 5 yrs', '5-9 yrs', '10-14 yrs', '15-19 yrs', '20-24 yrs', '25-34 yrs', \n",
    "                       '35-44 yrs', '45-54 yrs', '55-59 yrs', '60-64 yrs', '65-74 yrs', '75-84 yrs', '85 yrs and Older']]\n",
    "\n",
    "# Getting the Pennsylvania Data\n",
    "PAdf2020 = df2020Demographics.loc[df2020Demographics['State'] == 'PA']\n",
    "PA2020Ages = PAdf2020[['Under 5 yrs', '5-9 yrs', '10-14 yrs', '15-19 yrs', '20-24 yrs', '25-34 yrs', \n",
    "                       '35-44 yrs', '45-54 yrs', '55-59 yrs', '60-64 yrs', '65-74 yrs', '75-84 yrs', '85 yrs and Older']]\n",
    "\n",
    "AZPAdf2020 = pd.concat([AZ2020Ages, PA2020Ages], ignore_index = True)\n",
    "AZPAdf2020 = AZPAdf2020.transpose()\n",
    "AZPAdf2020 = AZPAdf2020.astype(int)\n",
    "AZPAdf2020"
   ]
  },
  {
   "cell_type": "code",
   "execution_count": null,
   "id": "bd55edc1-61a7-4cd3-9086-9aa4ff6d9aa5",
   "metadata": {},
   "outputs": [],
   "source": [
    "df2 = AZPAdf2020.sum()\n",
    "AZMean = df2[0]\n",
    "PAMean = df2[1]\n",
    "\n",
    "Group1 = AZdf2020['Under 5 yrs'].div(AZMean)\n",
    "print(Group1)\n",
    "#AZPAdf2020.loc[AZPAdf2020['Under 5 yrs']] = Group1\n",
    "AZPAdf2020"
   ]
  },
  {
   "cell_type": "code",
   "execution_count": null,
   "id": "28ee9266-5807-494c-8475-b3a0f8c69545",
   "metadata": {},
   "outputs": [],
   "source": [
    "# set width of bar\n",
    "barWidth = 0.35\n",
    "fig = plt.subplots(figsize =(20, 10))\n",
    " \n",
    "# set the values for each bar\n",
    "StateAZ = AZPAdf2020[0]\n",
    "StatePA = AZPAdf2020[1]\n",
    "\n",
    "\n",
    " \n",
    "# Set position of bar on X axis\n",
    "br1 = np.arange(len(AZPAdf2020))\n",
    "br2 = [x + barWidth for x in br1]\n",
    " \n",
    "# Make the plot\n",
    "plt.bar(br1, StateAZ, color ='teal', width = barWidth,\n",
    "         edgecolor ='grey', label ='Arizona')\n",
    "plt.bar(br2, StatePA, color ='purple', width = barWidth,\n",
    "        edgecolor ='grey', label ='Pennsylvania')\n",
    " \n",
    "# Adding Xticks\n",
    "plt.title('AZ vs PA Ages by Range', fontweight ='bold', fontsize = 20)\n",
    "plt.xlabel('Age Range', fontsize = 15)\n",
    "plt.ylabel('Number of People', fontsize = 15)\n",
    "plt.xticks([r + barWidth for r in range(len(AZPAdf2020))],\n",
    "        ['Under 5 yrs', '5-9 yrs', '10-14 yrs', '15-19 yrs', '20-24 yrs', '25-34 yrs', \n",
    "         '35-44 yrs', '45-54 yrs', '55-59 yrs', '60-64 yrs', '65-74 yrs', '75-84 yrs', '85 yrs and Older'])\n",
    " \n",
    "plt.legend(fontsize=20)\n",
    "plt.ticklabel_format(style='plain', useOffset=False, axis='y')\n",
    "plt.show()"
   ]
  },
  {
   "cell_type": "markdown",
   "id": "648005eb-ddb4-4f15-ae90-d9a48634774c",
   "metadata": {
    "jp-MarkdownHeadingCollapsed": true,
    "tags": []
   },
   "source": [
    "#### LA/ME: Percentages(%)"
   ]
  },
  {
   "cell_type": "code",
   "execution_count": null,
   "id": "91fb0718-bd52-45bd-a0ef-6f08bc14b988",
   "metadata": {},
   "outputs": [],
   "source": [
    "# Getting the Arizona Data\n",
    "LAdf2020 = df2020Demographics.loc[df2020Demographics['State'] == 'LA']\n",
    "LA2020Ages = LAdf2020[['Under 5 yrs', '5-9 yrs', '10-14 yrs', '15-19 yrs', '20-24 yrs', '25-34 yrs', \n",
    "                       '35-44 yrs', '45-54 yrs', '55-59 yrs', '60-64 yrs', '65-74 yrs', '75-84 yrs', '85 yrs and Older']]\n",
    "# Getting the Pennsylvania Data\n",
    "MEdf2020 = df2020Demographics.loc[df2020Demographics['State'] == 'ME']\n",
    "ME2020Ages = MEdf2020[['Under 5 yrs', '5-9 yrs', '10-14 yrs', '15-19 yrs', '20-24 yrs', '25-34 yrs', \n",
    "                       '35-44 yrs', '45-54 yrs', '55-59 yrs', '60-64 yrs', '65-74 yrs', '75-84 yrs', '85 yrs and Older']]\n",
    "# Adding the 2 dataframes together\n",
    "LAMEdf2020 = pd.concat([LA2020Ages, ME2020Ages], ignore_index = True)\n",
    "LAMEdf2020 = LAMEdf2020.transpose()\n",
    "#LAMEdf2020\n",
    "\n",
    "# Getting the sum of each State\n",
    "df2 = LAMEdf2020.sum()\n",
    "LAMean = df2[0]\n",
    "MEMean = df2[1]\n",
    "#print(LAMean)\n",
    "#print(MEMean)\n",
    "\n",
    "# Transposing the dataframe again\n",
    "LAMEdf2020 = LAMEdf2020.transpose()\n",
    "#LAMEdf2020\n",
    "\n",
    "# ARIZONA TO %\n",
    "# Gets all of the percentages for LA Age Groups\n",
    "Group1 = LAdf2020['Under 5 yrs'].div(LAMean)\n",
    "Group2 = LAdf2020['5-9 yrs'].div(LAMean)\n",
    "Group3 = LAdf2020['10-14 yrs'].div(LAMean)\n",
    "Group4 = LAdf2020['15-19 yrs'].div(LAMean)\n",
    "Group5 = LAdf2020['20-24 yrs'].div(LAMean)\n",
    "Group6 = LAdf2020['25-34 yrs'].div(LAMean)\n",
    "Group7 = LAdf2020['35-44 yrs'].div(LAMean)\n",
    "Group8 = LAdf2020['45-54 yrs'].div(LAMean)\n",
    "Group9 = LAdf2020['55-59 yrs'].div(LAMean)\n",
    "Group10 = LAdf2020['60-64 yrs'].div(LAMean)\n",
    "Group11 = LAdf2020['65-74 yrs'].div(LAMean)\n",
    "Group12 = LAdf2020['75-84 yrs'].div(LAMean)\n",
    "Group13 = LAdf2020['85 yrs and Older'].div(LAMean)\n",
    "# Replaces LA nmumbers with percentages\n",
    "LAMEdf2020.at[0,'Under 5 yrs']=Group1\n",
    "LAMEdf2020.at[0,'5-9 yrs']=Group2\n",
    "LAMEdf2020.at[0,'10-14 yrs']=Group3\n",
    "LAMEdf2020.at[0,'15-19 yrs']=Group4\n",
    "LAMEdf2020.at[0,'20-24 yrs']=Group5\n",
    "LAMEdf2020.at[0,'25-34 yrs']=Group6\n",
    "LAMEdf2020.at[0,'35-44 yrs']=Group7\n",
    "LAMEdf2020.at[0,'45-54 yrs']=Group8\n",
    "LAMEdf2020.at[0,'55-59 yrs']=Group9\n",
    "LAMEdf2020.at[0,'60-64 yrs']=Group10\n",
    "LAMEdf2020.at[0,'65-74 yrs']=Group11\n",
    "LAMEdf2020.at[0,'75-84 yrs']=Group12\n",
    "LAMEdf2020.at[0,'85 yrs and Older']=Group13\n",
    "\n",
    "#PENNSYLVANIA TO %\n",
    "# Gets all of the percentages for ME Age Groups\n",
    "Group1 = MEdf2020['Under 5 yrs'].div(MEMean)\n",
    "Group2 = MEdf2020['5-9 yrs'].div(MEMean)\n",
    "Group3 = MEdf2020['10-14 yrs'].div(MEMean)\n",
    "Group4 = MEdf2020['15-19 yrs'].div(MEMean)\n",
    "Group5 = MEdf2020['20-24 yrs'].div(MEMean)\n",
    "Group6 = MEdf2020['25-34 yrs'].div(MEMean)\n",
    "Group7 = MEdf2020['35-44 yrs'].div(MEMean)\n",
    "Group8 = MEdf2020['45-54 yrs'].div(MEMean)\n",
    "Group9 = MEdf2020['55-59 yrs'].div(MEMean)\n",
    "Group10 = MEdf2020['60-64 yrs'].div(MEMean)\n",
    "Group11 = MEdf2020['65-74 yrs'].div(MEMean)\n",
    "Group12 = MEdf2020['75-84 yrs'].div(MEMean)\n",
    "Group13 = MEdf2020['85 yrs and Older'].div(MEMean)\n",
    "# Replaces ME nmumbers with percentages\n",
    "LAMEdf2020.at[1,'Under 5 yrs']=Group1\n",
    "LAMEdf2020.at[1,'5-9 yrs']=Group2\n",
    "LAMEdf2020.at[1,'10-14 yrs']=Group3\n",
    "LAMEdf2020.at[1,'15-19 yrs']=Group4\n",
    "LAMEdf2020.at[1,'20-24 yrs']=Group5\n",
    "LAMEdf2020.at[1,'25-34 yrs']=Group6\n",
    "LAMEdf2020.at[1,'35-44 yrs']=Group7\n",
    "LAMEdf2020.at[1,'45-54 yrs']=Group8\n",
    "LAMEdf2020.at[1,'55-59 yrs']=Group9\n",
    "LAMEdf2020.at[1,'60-64 yrs']=Group10\n",
    "LAMEdf2020.at[1,'65-74 yrs']=Group11\n",
    "LAMEdf2020.at[1,'75-84 yrs']=Group12\n",
    "LAMEdf2020.at[1,'85 yrs and Older']=Group13\n",
    "\n",
    "# Transpose the data one last time\n",
    "LAMEdf2020 = LAMEdf2020.transpose()\n",
    "LAMEdf2020"
   ]
  },
  {
   "cell_type": "code",
   "execution_count": null,
   "id": "1f3099a8-4e7d-4365-8e64-ba9dd6ecb974",
   "metadata": {},
   "outputs": [],
   "source": [
    "# set width of bar\n",
    "barWidth = 0.35\n",
    "fig = plt.subplots(figsize =(20, 10))\n",
    " \n",
    "# set the values for each bar\n",
    "StateLA = LAMEdf2020[0]\n",
    "StateME = LAMEdf2020[1]\n",
    "\n",
    "\n",
    " \n",
    "# Set position of bar on X axis\n",
    "br1 = np.arange(len(LAMEdf2020))\n",
    "br2 = [x + barWidth for x in br1]\n",
    " \n",
    "# Make the plot\n",
    "plt.bar(br1, StateLA, color ='red', width = barWidth,\n",
    "         edgecolor ='grey', label ='Louisiana')\n",
    "plt.bar(br2, StateME, color ='black', width = barWidth,\n",
    "        edgecolor ='grey', label ='Maine')\n",
    " \n",
    "# Adding Xticks\n",
    "plt.title('Louisiana vs Maine Ages by Range (%)', fontweight ='bold', fontsize = 20)\n",
    "plt.xlabel('Age Range', fontsize = 15)\n",
    "plt.ylabel('% Number of People', fontsize = 15)\n",
    "plt.xticks([r + barWidth for r in range(len(LAMEdf2020))],\n",
    "        ['Under 5 yrs', '5-9 yrs', '10-14 yrs', '15-19 yrs', '20-24 yrs', '25-34 yrs', \n",
    "         '35-44 yrs', '45-54 yrs', '55-59 yrs', '60-64 yrs', '65-74 yrs', '75-84 yrs', '85 yrs and Older'])\n",
    " \n",
    "plt.legend(fontsize=20)\n",
    "plt.ticklabel_format(style='plain', useOffset=False, axis='y')\n",
    "plt.show()"
   ]
  },
  {
   "cell_type": "code",
   "execution_count": null,
   "id": "e88fa350-c85a-44d7-80dc-c9d52dc054c4",
   "metadata": {},
   "outputs": [],
   "source": []
  }
 ],
 "metadata": {
  "kernelspec": {
   "display_name": "Python 3 (ipykernel)",
   "language": "python",
   "name": "python3"
  },
  "language_info": {
   "codemirror_mode": {
    "name": "ipython",
    "version": 3
   },
   "file_extension": ".py",
   "mimetype": "text/x-python",
   "name": "python",
   "nbconvert_exporter": "python",
   "pygments_lexer": "ipython3",
   "version": "3.9.13"
  }
 },
 "nbformat": 4,
 "nbformat_minor": 5
}

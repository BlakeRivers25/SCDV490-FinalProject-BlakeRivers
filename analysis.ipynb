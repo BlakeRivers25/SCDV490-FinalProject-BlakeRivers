{
 "cells": [
  {
   "cell_type": "markdown",
   "id": "7a7d5490-b4d8-417d-900a-e591842be2a9",
   "metadata": {
    "tags": []
   },
   "source": [
    "# This Notebook will have analysis in it"
   ]
  },
  {
   "cell_type": "code",
   "execution_count": null,
   "id": "2a923117-ecdb-436f-9cb1-04cb68e89896",
   "metadata": {},
   "outputs": [],
   "source": []
  }
 ],
 "metadata": {
  "kernelspec": {
   "display_name": "Python 3 (ipykernel)",
   "language": "python",
   "name": "python3"
  },
  "language_info": {
   "codemirror_mode": {
    "name": "ipython",
    "version": 3
   },
   "file_extension": ".py",
   "mimetype": "text/x-python",
   "name": "python",
   "nbconvert_exporter": "python",
   "pygments_lexer": "ipython3",
   "version": "3.9.13"
  }
 },
 "nbformat": 4,
 "nbformat_minor": 5
}
